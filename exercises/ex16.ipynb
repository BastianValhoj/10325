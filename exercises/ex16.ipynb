{
 "cells": [
  {
   "cell_type": "code",
   "execution_count": 1,
   "metadata": {},
   "outputs": [],
   "source": [
    "import numpy as np\n",
    "import matplotlib.pyplot as plt\n",
    "import seaborn as sn\n",
    "# from ipywidgets import interactive\n",
    "from matplotlib.widgets import Slider\n",
    "sn.set_theme(\"notebook\", \"darkgrid\")\n",
    "%matplotlib widget\n",
    "from sympy import solve, symbols, Eq, sqrt, I, init_printing, re, im\n",
    "init_printing()"
   ]
  },
  {
   "cell_type": "markdown",
   "metadata": {},
   "source": [
    "![](ex16.png)\n",
    "![](ex16-2.png)\n",
    "![](ex16-3.png)"
   ]
  },
  {
   "cell_type": "markdown",
   "metadata": {},
   "source": [
    "## a)"
   ]
  },
  {
   "cell_type": "markdown",
   "metadata": {},
   "source": [
    "$$\\begin{align*}\n",
    "    g(z - \\varepsilon - \\beta^2g) &= 1\n",
    "    \\\\ \\beta^2g^2 - g(z-\\varepsilon) + 1 &= 0\n",
    "    \\\\ g = \\frac{z-\\varepsilon \\pm \\sqrt{(z-\\varepsilon)^2 - 4\\beta^2}}{2\\beta^2}\n",
    "\\end{align*}$$"
   ]
  },
  {
   "cell_type": "code",
   "execution_count": 2,
   "metadata": {},
   "outputs": [
    {
     "data": {
      "image/png": "[encoded data removed]",
      "text/latex": [
       "$\\displaystyle \\left( - \\frac{\\sin{\\left(\\frac{\\operatorname{atan}_{2}{\\left(0,- \\left(2 \\beta - z\\right) \\left(2 \\beta + z\\right) \\right)}}{2} \\right)} \\sqrt{\\left|{2 \\beta - z}\\right|} \\sqrt{\\left|{2 \\beta + z}\\right|}}{2 \\beta^{2}}, \\  \\frac{\\sin{\\left(\\frac{\\operatorname{atan}_{2}{\\left(0,- \\left(2 \\beta - z\\right) \\left(2 \\beta + z\\right) \\right)}}{2} \\right)} \\sqrt{\\left|{2 \\beta - z}\\right|} \\sqrt{\\left|{2 \\beta + z}\\right|}}{2 \\beta^{2}}\\right)$"
      ],
      "text/plain": [
       "⎛    ⎛atan2(0, -(2⋅β - z)⋅(2⋅β + z))⎞   ___________   ___________      ⎛atan2( ↪\n",
       "⎜-sin⎜──────────────────────────────⎟⋅╲╱ │2⋅β - z│ ⋅╲╱ │2⋅β + z│    sin⎜────── ↪\n",
       "⎜    ⎝              2               ⎠                                  ⎝       ↪\n",
       "⎜─────────────────────────────────────────────────────────────────, ────────── ↪\n",
       "⎜                                 2                                            ↪\n",
       "⎝                              2⋅β                                             ↪\n",
       "\n",
       "↪ 0, -(2⋅β - z)⋅(2⋅β + z))⎞   ___________   ___________⎞\n",
       "↪ ────────────────────────⎟⋅╲╱ │2⋅β - z│ ⋅╲╱ │2⋅β + z│ ⎟\n",
       "↪         2               ⎠                            ⎟\n",
       "↪ ─────────────────────────────────────────────────────⎟\n",
       "↪                       2                              ⎟\n",
       "↪                    2⋅β                               ⎠"
      ]
     },
     "execution_count": 2,
     "metadata": {},
     "output_type": "execute_result"
    }
   ],
   "source": [
    "g, z, E, eta, eps, beta = symbols(\"g z E eta varepsilon beta\", real=True)\n",
    "\n",
    "eqn1 = 1/(z-eps-beta**2*g)\n",
    "\n",
    "sol1, sol2 = solve(Eq(g, eqn1), g, )\n",
    "\n",
    "(im(sol1.subs(z-eps, \n",
    "            z\n",
    "            # E+ I*eta\n",
    "            )), \n",
    " im(sol2.subs(z-eps, \n",
    "            z\n",
    "            # E + I*eta\n",
    "            ))\n",
    " )"
   ]
  },
  {
   "cell_type": "markdown",
   "metadata": {},
   "source": [
    " Lets rewrite it a bit\n",
    "\n",
    "$$\\begin{align*}\n",
    "    g &= \\frac{z - \\varepsilon \\pm \\sqrt{\\left([z-\\varepsilon] + \\sqrt{4\\beta^2}\\right)\\left([z-\\varepsilon] - \\sqrt{4\\beta^2}\\right)}}{2\\beta^2}\n",
    "    \\\\ &= \\frac{z - \\varepsilon \\pm \\sqrt{\\left([z-\\varepsilon] + 2|\\beta|\\right)\\left([z-\\varepsilon] - 2|\\beta|\\right)}}{2\\beta^2}\n",
    "    % \\\\ &= \\frac{z - \\varepsilon \\pm \\sqrt{-\\left((z-\\varepsilon) + 2|\\beta|\\right)\\left((z-\\varepsilon) - 2|\\beta|\\right)}}{2\\beta^2}\n",
    "\\end{align*}$$"
   ]
  },
  {
   "cell_type": "markdown",
   "metadata": {},
   "source": [
    "The physical (valid) solution is the one satisfying the condition that $g\\to 0$ for $|z|\\to \\infty$.\n",
    "<!-- first we consider the \"$+$\" solution. -->\n",
    "$$\n",
    "    g = \\frac{z - \\varepsilon \\pm \\sqrt{(z-\\varepsilon)^2 + 4\\beta^2}}{2\\beta^2} \\overset{|z|\\gg 1}{=} \\frac{z \\pm \\sqrt{z^2}}{2\\beta^2} = \\frac{z \\pm |z| }{2\\beta^2}\n",
    "$$ \n",
    "\n",
    "which doesn't satisfy the condition for $g\\to 0 $ for $z\\to \\infty$.\n",
    "\n",
    "Next, we consider the \"$+$\" solution\n",
    "\n",
    "$$\n",
    "    g \\overset{z \\ll 0} = \\frac{-|z| + |z|}{2\\beta^2} \\sim 0\n",
    "    \\\\\n",
    "    g \\overset{z \\gg 0} = \\frac{+|z| + |z|}{2\\beta^2}  \\sim 2\\frac{|z|}{2\\beta^2}\n",
    "$$\n",
    "<!-- \n",
    "$$\n",
    "    g \\sim \\frac{z + |z|}{2\\beta^2}\n",
    "    \\\\ \\lim_{z\\to \\infty} g = \\infty\n",
    "    \\\\ \\lim_{z\\to -\\infty} g = 0\n",
    "$$\n",
    "\n",
    "which does not satisfy the condition in the limit $z\\to\\infty$.\n",
    "\n",
    "For the \"$-$\" solution:\n",
    "\n",
    "$$\n",
    "    g \\sim \\frac{z - |z|}{2\\beta^2}\n",
    "    \\\\ \\lim_{z\\to \\infty} g = \n",
    "    \\\\ \\lim_{z\\to -\\infty} g = 0\n",
    "$$ -->"
   ]
  },
  {
   "cell_type": "markdown",
   "metadata": {},
   "source": [
    "Now we consider the \"$-$\" solution\n",
    "$$\n",
    "    g \\overset{z \\ll 0}{=} \\frac{-|z| - |z|}{2\\beta^2} = \\frac{-2|z|}{2\\beta^2}\n",
    "    \\\\\n",
    "    g \\overset{z \\gg 0}{=} \\frac{|z| - |z|}{2\\beta^2} = 0\n",
    "$$"
   ]
  },
  {
   "cell_type": "markdown",
   "metadata": {},
   "source": [
    "And using the hint, we choose the solution to be a piecewise\n",
    "\n",
    "$$\n",
    "    g = \\begin{cases}\n",
    "        \\frac{E -\\varepsilon + i\\eta + \\sqrt{\\Big(E -\\varepsilon + 2|\\beta| + i\\eta \\Big)\\Big(E - \\varepsilon - 2|\\beta| + i\\eta \\Big)}}{2\\beta^2} & E - \\varepsilon > -2|\\beta|  \\\\\n",
    "        \\frac{E -\\varepsilon + i\\eta - \\sqrt{\\Big(E -\\varepsilon + 2|\\beta| + i\\eta \\Big)\\Big(E - \\varepsilon - 2|\\beta| + i\\eta \\Big)}}{2\\beta^2} & E - \\varepsilon > -2|\\beta| \n",
    "    \\end{cases}\n",
    "$$"
   ]
  },
  {
   "cell_type": "code",
   "execution_count": 4,
   "metadata": {},
   "outputs": [
    {
     "name": "stdout",
     "output_type": "stream",
     "text": [
      "valid_rows.shape = (0,)\n",
      "valid_cols.shape = (0,)\n"
     ]
    },
    {
     "data": {
      "application/vnd.jupyter.widget-view+json": {
       "model_id": "1d76d92e364941c8a0c4801572772dc6",
       "version_major": 2,
       "version_minor": 0
      },
      "image/png": "[encoded data removed]",
      "text/html": [
       "\n",
       "            <div style=\"display: inline-block;\">\n",
       "                <div class=\"jupyter-widgets widget-label\" style=\"text-align: center;\">\n",
       "                    Figure\n",
       "                </div>\n",
       "                <img src='data:image/png;base64,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' width=600.0/>\n",
       "            </div>\n",
       "        "
      ],
      "text/plain": [
       "Canvas(toolbar=Toolbar(toolitems=[('Home', 'Reset original view', 'home', 'home'), ('Back', 'Back to previous …"
      ]
     },
     "metadata": {},
     "output_type": "display_data"
    },
    {
     "name": "stdout",
     "output_type": "stream",
     "text": [
      "valid_rows.shape = (0,)\n",
      "valid_cols.shape = (0,)\n",
      "valid_rows.shape = (0,)\n",
      "valid_cols.shape = (0,)\n",
      "valid_rows.shape = (0,)\n",
      "valid_cols.shape = (0,)\n",
      "valid_rows.shape = (0,)\n",
      "valid_cols.shape = (0,)\n",
      "valid_rows.shape = (0,)\n",
      "valid_cols.shape = (0,)\n",
      "valid_rows.shape = (0,)\n",
      "valid_cols.shape = (0,)\n"
     ]
    }
   ],
   "source": [
    "def g_T1(E, **kwargs):\n",
    "    eta = kwargs.get(\"eta\", 1e-2)\n",
    "    beta = kwargs.get(\"beta\", 1)\n",
    "    eps = kwargs.get(\"eps\", 0)\n",
    "    # print(f\"g_T1 called! {eps =}\")\n",
    "    return (E - eps + 1.j*eta)/(2*beta**2)\n",
    "\n",
    "def g_T2(E, **kwargs):\n",
    "    eta = kwargs.get(\"eta\", 1e-2)\n",
    "    beta = kwargs.get(\"beta\", 1)\n",
    "    eps = kwargs.get(\"eps\", 0)\n",
    "    # print(f\"g_T2 called! {eps =}\")\n",
    "    z = E + 1.j*eta\n",
    "    # T2 = np.sqrt( -(z - eps + 2*np.abs(beta))*(z - eps - 2*np.abs(beta))\n",
    "    #         ) / (2*beta)\n",
    "    \n",
    "    return np.sqrt( (z - eps)**2 + 4*beta**2)/(2*beta**2)\n",
    "    # return T2\n",
    "\n",
    "def g_pm(E, **kwargs):\n",
    "    # eps = kwargs.get(\"eps\", 0)\n",
    "    # eta = kwargs.get(\"eta\", 1e-2)\n",
    "    # beta = kwargs.get(\"beta\", 1)\n",
    "    \n",
    "    T1 = g_T1(E, **kwargs)\n",
    "    T2 = g_T2(E, **kwargs)\n",
    "    arr = T1 + np.array([T2, -T2])\n",
    "    return arr\n",
    "\n",
    "def correct_sol(E, **params):\n",
    "    \n",
    "    # Es = params.get(\"Es\", None)\n",
    "    Y_values = g_pm(E, **params)\n",
    "    Y_imag = Y_values.imag\n",
    "    Y_real = Y_values.real\n",
    "    valid_rows, valid_cols = np.argwhere(np.imag(Y_values) < 0).T\n",
    "    print(f\"{valid_rows.shape = }\")\n",
    "    print(f\"{valid_cols.shape = }\")\n",
    "    \n",
    "    # print(f\"correct_sol called! {Y_real[valid_indicis].shape = }\")\n",
    "    # print(f\"{valid_indicis.shape = }\")\n",
    "    return E[valid_cols], Y_values[valid_rows, valid_cols]\n",
    "    \n",
    "    \n",
    "    \n",
    "\n",
    "def plot_g(E, **kwargs):\n",
    "    \n",
    "    eta = kwargs.get(\"eta\", 1e-2)\n",
    "    beta = kwargs.get(\"beta\", 1)\n",
    "    eps = kwargs.get(\"eps\", 0)\n",
    "    \n",
    "    fig, ax = plt.subplots(figsize=kwargs.get(\"figsize\",(6,8)))\n",
    "    plt.subplots_adjust(bottom=0.35)  # Adjust space for the sliders\n",
    "    \n",
    "    ax_slider_beta = plt.axes([0.25, 0.1, 0.65, 0.03]) # left, bottom, width, height   \n",
    "    slider_beta = Slider(ax_slider_beta, label=r\"$\\beta '$\", \n",
    "                         valmin=kwargs.get(\"betamin\", -2), \n",
    "                         valmax=kwargs.get(\"betamax\", 2), \n",
    "                         valinit=beta, \n",
    "                         valstep=kwargs.get(\"betastep\", 0.1))\n",
    "    \n",
    "    ax_slider_eps = plt.axes([0.25, 0.2, 0.65, 0.03]) # left, bottom, width, height   \n",
    "    slider_eps = Slider(ax_slider_eps, \n",
    "                        label=r\"$\\varepsilon '$\", \n",
    "                        valmin=kwargs.get(\"epsmin\", -2), \n",
    "                        valmax=kwargs.get(\"epsmax\", 2), \n",
    "                        valinit=eps, \n",
    "                        valstep=kwargs.get(\"epsstep\", 0.1))\n",
    "    \n",
    "    Es, gs = correct_sol(E, beta=beta, eps=eps, eta=eta)\n",
    "    re_label = r\"$\\mathrm{Re}(g)$\"\n",
    "    ldos_label = r\"LDOS: $-\\mathrm{Im}(g)$\"\n",
    "    \n",
    "    ax.plot(Es, gs.real, label=re_label, color=\"b\")\n",
    "    ax.plot(Es, -1 * gs.imag, label=ldos_label, color=\"r\")\n",
    "\n",
    "    ax.legend()\n",
    "\n",
    "    ax.set(ylabel=r\"$g_{\\pm}$\", \n",
    "        xlabel=r\"$E$\",\n",
    "        xlim=(-5,5), \n",
    "        ylim=kwargs.get(\"ylim\", (None, None))\n",
    "        )\n",
    "    \n",
    "    def update(val):\n",
    "        ax.clear()\n",
    "        beta_prime = slider_beta.val\n",
    "        eps_prime = slider_eps.val\n",
    "        Es, gs =  correct_sol(E, beta=beta_prime, eps=eps_prime)\n",
    "        ax.plot(Es, gs.real, label=re_label, color=\"b\")\n",
    "        ax.plot(Es, -1 * gs.imag, label=ldos_label, color=\"r\")\n",
    "        \n",
    "        ax.set(ylabel=r\"$g_{\\pm}$\", \n",
    "            xlabel=r\"$E$\",\n",
    "            xlim=kwargs.get(\"xlim\", (-5,5)), \n",
    "            ylim=kwargs.get(\"ylim\", (None, None))\n",
    "        )\n",
    "        ax.legend()\n",
    "        fig.canvas.draw_idle() # Redraw the plot\n",
    "        \n",
    "    slider_eps.on_changed(update)\n",
    "    slider_beta.on_changed(update)\n",
    "    \n",
    "    # return fig, ax\n",
    "\n",
    "\n",
    "Es = np.linspace(-5, 5, num=101)\n",
    "\n",
    "plot_g(Es, betamin=-20, betamax=20, betastep=1)\n",
    "plt.show()"
   ]
  },
  {
   "cell_type": "markdown",
   "metadata": {},
   "source": [
    "<!-- ## b) -->"
   ]
  },
  {
   "cell_type": "markdown",
   "metadata": {},
   "source": []
  }
 ],
 "metadata": {
  "kernelspec": {
   "display_name": "10325",
   "language": "python",
   "name": "python3"
  },
  "language_info": {
   "codemirror_mode": {
    "name": "ipython",
    "version": 3
   },
   "file_extension": ".py",
   "mimetype": "text/x-python",
   "name": "python",
   "nbconvert_exporter": "python",
   "pygments_lexer": "ipython3",
   "version": "3.11.11"
  }
 },
 "nbformat": 4,
 "nbformat_minor": 2
}
