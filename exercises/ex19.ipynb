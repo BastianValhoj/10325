{
 "cells": [
  {
   "cell_type": "code",
   "execution_count": 17,
   "metadata": {},
   "outputs": [
    {
     "name": "stdout",
     "output_type": "stream",
     "text": [
      "IPython console for SymPy 1.13.3 (Python 3.11.11-64-bit) (ground types: gmpy)\n",
      "\n",
      "These commands were executed:\n",
      ">>> from sympy import *\n",
      ">>> x, y, z, t = symbols('x y z t')\n",
      ">>> k, m, n = symbols('k m n', integer=True)\n",
      ">>> f, g, h = symbols('f g h', cls=Function)\n",
      ">>> init_printing()\n",
      "\n",
      "Documentation can be found at https://docs.sympy.org/1.13.3/\n",
      "\n"
     ]
    }
   ],
   "source": [
    "import numpy as np\n",
    "from sympy import init_session\n",
    "init_session()"
   ]
  },
  {
   "cell_type": "markdown",
   "metadata": {
    "vscode": {
     "languageId": "plaintext"
    }
   },
   "source": [
    "![alt text](ex19.png)\n",
    "![alt text](ex19-2.png)\n"
   ]
  },
  {
   "cell_type": "markdown",
   "metadata": {},
   "source": [
    "## a)"
   ]
  },
  {
   "cell_type": "markdown",
   "metadata": {},
   "source": [
    "This simply done by doing the inverse of $\\mathbf{M}$. Because it is tedious to use ```\\mathbf{M}``` for boldface, we will just use regular letters.\n",
    "\n",
    "$$\\begin{align*}\n",
    "    M &= \\left(\\begin{array}{c|c}\n",
    "        M_{11} & M_{12} \\\\ \\hline\n",
    "        M_{21} & M_{22}\n",
    "        \\end{array}\\right)\n",
    "    \\\\\n",
    "    \\left(\\begin{array}{cc|cc}\n",
    "        M_{11} & M_{12} & I & 0 \\\\\n",
    "        M_{21} & M_{22} & 0 & I\n",
    "        \\end{array}\\right) \n",
    "        &\\sim\n",
    "        \\left(\\begin{array}{cc|cc}\n",
    "        M_{11}^{-1}M_{11}   & M_{11}^{-1}M_{12}     & M_{11}^{-1}   & 0 \\\\\n",
    "        M_{21}              & M_{22}                & 0             & I\n",
    "        \\end{array}\\right) \n",
    "        \\\\ &=\n",
    "        \\left(\\begin{array}{cc|cc}\n",
    "        I      & M_{11}^{-1}M_{12}  & M_{11}^{-1}   & 0 \\\\\n",
    "        M_{21} & M_{22}             & 0             & I\n",
    "        \\end{array}\\right)\n",
    "        \\\\ &\\sim\n",
    "        \\left(\\begin{array}{cc|cc}\n",
    "        I               & M_{11}^{-1}M_{12}                 & M_{11}^{-1}           & 0 \\\\\n",
    "        M_{21} - M_{21} & M_{22} - M_{21}M_{11}^{-1}M_{12}  & -M_{21} M_{11}^{-1}   & I\n",
    "        \\end{array}\\right)\n",
    "        \\\\ &= \n",
    "        \\left(\\begin{array}{cc|cc}\n",
    "        I   & M_{11}^{-1}M_{12}                 & M_{11}^{-1}           & 0 \\\\\n",
    "        0   & M_{22} - M_{21}M_{11}^{-1}M_{12}  & -M_{21} M_{11}^{-1}   & I\n",
    "        \\end{array}\\right)\n",
    "        \\\\ &\\sim\n",
    "        \\left(\\begin{array}{cc|cc}\n",
    "        I   & M_{11}^{-1}M_{12}                                                                             & M_{11}^{-1}           & 0 \\\\\n",
    "        0   & \\Big(M_{22} - M_{21}M_{11}^{-1}M_{12}\\Big)^{-1}\\Big(M_{22} - M_{21}M_{11}^{-1}M_{12}\\Big)     & -\\Big(M_{22} - M_{21}M_{11}^{-1}M_{12}\\Big)^{-1}M_{21} M_{11}^{-1}   & \\Big(M_{22} - M_{21}M_{11}^{-1}M_{12}\\Big)^{-1}\n",
    "        \\end{array}\\right)\n",
    "        \\\\ &=\n",
    "        \\left(\\begin{array}{cc|cc}\n",
    "        I   & M_{11}^{-1}M_{12} & M_{11}^{-1}                                                           & 0 \\\\\n",
    "        0   & I                 & -\\Big(M_{22} - M_{21}M_{11}^{-1}M_{12}\\Big)^{-1}M_{21} M_{11}^{-1}    & \\Big(M_{22} - M_{21}M_{11}^{-1}M_{12}\\Big)^{-1}\n",
    "        \\end{array}\\right)\n",
    "\\end{align*}$$"
   ]
  },
  {
   "cell_type": "markdown",
   "metadata": {},
   "source": [
    "From the above, we conclude that the matrix element of the inverse $(M^{-1})_{22}$ is :\n",
    "$$\n",
    "    (M^{-1})_{22} = \\Big(M_{22} - M_{21}(M_{11})^{-1}M_{12}\\Big)^{-1}\n",
    "$$\n"
   ]
  },
  {
   "cell_type": "markdown",
   "metadata": {},
   "source": [
    "## b)\n",
    "\n",
    "We do the last operations to get the inverse for element $M_{11}$\n",
    "$$\\begin{align*}\n",
    "    &= \\left(\\begin{array}{cc|cc}\n",
    "    I   & M_{11}^{-1}M_{12} & M_{11}^{-1}                                                           & 0 \\\\\n",
    "    0   & I                 & -\\Big(M_{22} - M_{21}M_{11}^{-1}M_{12}\\Big)^{-1}M_{21} M_{11}^{-1}    & \\Big(M_{22} - M_{21}M_{11}^{-1}M_{12}\\Big)^{-1}\n",
    "    \\end{array}\\right)\n",
    "    \\\\ &\\sim \n",
    "    \\left(\\begin{array}{cc|cc}\n",
    "    I   & M_{11}^{-1}M_{12} - M_{11}^{-1}M_{12}     & M_{11}^{-1} + M_{11}^{-1}M_{12} \\Big(M_{22} - M_{21}M_{11}^{-1}M_{12}\\Big)^{-1} M_{21} M_{11}^{-1}                                                           & -  M_{11}^{-1}M_{12} \\Big(M_{21}M_{11}^{-1}M_{12}\\Big)^{-1}\\\\\n",
    "    0   & I                                         & -\\Big(M_{22} - M_{21}M_{11}^{-1}M_{12}\\Big)^{-1}M_{21} M_{11}^{-1}    & \\Big(M_{22} - M_{21}M_{11}^{-1}M_{12}\\Big)^{-1}\n",
    "    \\end{array}\\right)\n",
    "    \\\\ &= \n",
    "    \\left(\\begin{array}{cc|cc}\n",
    "    I   & 0    & M_{11}^{-1} + M_{11}^{-1}M_{12} \\Big(M_{22} - M_{21}M_{11}^{-1}M_{12}\\Big)^{-1} M_{21} M_{11}^{-1}                                                           & -  M_{11}^{-1}M_{12} \\Big(M_{21}M_{11}^{-1}M_{12}\\Big)^{-1}\\\\\n",
    "    0   & I                                         & -\\Big(M_{22} - M_{21}M_{11}^{-1}M_{12}\\Big)^{-1}M_{21} M_{11}^{-1}    & \\Big(M_{22} - M_{21}M_{11}^{-1}M_{12}\\Big)^{-1}\n",
    "    \\end{array}\\right)\n",
    "\\end{align*}$$"
   ]
  },
  {
   "cell_type": "markdown",
   "metadata": {},
   "source": [
    "And we read the element as \n",
    "\n",
    "$$  \n",
    "    (M^{-1})_{11} = (M_{11})^{-1}\\Big(I + M_{12}(M^{-1})_{22}\\Big)\n",
    "$$"
   ]
  },
  {
   "cell_type": "code",
   "execution_count": null,
   "metadata": {},
   "outputs": [],
   "source": [
    "# n = 1\n",
    "# M11 = MatrixSymbol(\"M_{11}\", n, n)\n",
    "# M12 = MatrixSymbol(\"M_{12}\", n, n)\n",
    "# M21 = MatrixSymbol(\"M_{21}\", n, n)\n",
    "# M22 = MatrixSymbol(\"M_{22}\", n, n)\n",
    "\n",
    "# M = Matrix([[M11, M12],\n",
    "#             [M21, M22]])\n",
    "# M.inv()"
   ]
  }
 ],
 "metadata": {
  "kernelspec": {
   "display_name": "10325",
   "language": "python",
   "name": "python3"
  },
  "language_info": {
   "codemirror_mode": {
    "name": "ipython",
    "version": 3
   },
   "file_extension": ".py",
   "mimetype": "text/x-python",
   "name": "python",
   "nbconvert_exporter": "python",
   "pygments_lexer": "ipython3",
   "version": "3.11.11"
  }
 },
 "nbformat": 4,
 "nbformat_minor": 2
}
