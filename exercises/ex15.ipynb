{
 "cells": [
  {
   "cell_type": "markdown",
   "metadata": {},
   "source": []
  },
  {
   "cell_type": "markdown",
   "metadata": {},
   "source": [
    "![image.png](ex15.png)"
   ]
  },
  {
   "cell_type": "markdown",
   "metadata": {},
   "source": [
    "$$\\begin{align*}\n",
    "    % (z- \\varepsilon')\\mathbf{G}_00 - \\mathbf{V}^\\dagger\\mathbf{G}_{c0} &= \\mathbf{1}\n",
    "    % \\\\\n",
    "    &&-\\mathbf{VG}_{00} + (z\\mathbf{I} - \\mathbf{H}^c)\\mathbf{G}_{c0} &= 0\n",
    "    \\\\ \n",
    "    &&(z\\mathbf{I} - \\mathbf{H}^c)\\mathbf{G}_{c0} &= \\mathbf{VG}_{00}\n",
    "    \\\\\n",
    "\\Rightarrow && (z\\mathbf{I} - \\mathbf{H}^c)^{-1} (z\\mathbf{I} - \\mathbf{H}^c) \\mathbf{G}_{c0} &= (z\\mathbf{I} - \\mathbf{H}^c)^{-1}\\mathbf{V}\\mathbf{G}_{00}\n",
    "    \\\\\n",
    "\\Rightarrow && \\mathbf{G}_{c0} &= (z\\mathbf{I} - \\mathbf{H}^c)^{-1}\\mathbf{V}\\mathbf{G}_{00}\n",
    "    \\\\\n",
    "    && (z- \\varepsilon')\\mathbf{G}_{00} - \\mathbf{V}^\\dagger\\mathbf{G}_{c0} &= \\mathbf{1}\n",
    "    \\\\\n",
    "\\Rightarrow && (z- \\varepsilon')\\mathbf{G}_{00} - \\mathbf{V}^\\dagger(z\\mathbf{I} - \\mathbf{H}^c)^{-1}\\mathbf{V}\\mathbf{G}_{00} &= \\mathbf{1}\n",
    "    \\\\\n",
    "\\Rightarrow && (z- \\varepsilon')\\mathbf{G}_{00} - \\mathbf{V}^\\dagger(z\\mathbf{I} - \\mathbf{H}^c)^{-1}\\mathbf{V}\\mathbf{G}_{00} &= \\mathbf{1}\n",
    "    \\\\ && \\left[z - \\varepsilon' - \\mathbf{V}^\\dagger(z\\mathbf{I} - \\mathbf{H}^c)^{-1}\\mathbf{V} \\right] \\mathbf{G}_{00} &= \\mathbf{1}\n",
    "    \\\\\n",
    "    \\\\\n",
    "    \\\\ && \\left[z - \\varepsilon' - \\Sigma(z) \\right] \\mathbf{G}_{00} &= \\mathbf{1}, \n",
    "    \\\\\n",
    "    && \\Sigma(z) = \\mathbf{V}^\\dagger\\mathbf{G}^c(z)\\mathbf{V}, \\quad& \\mathbf{G}^c(z) = (z\\mathbf{I} - \\mathbf{H}^c)^{-1}\n",
    "\\end{align*}"
   ]
  }
 ],
 "metadata": {
  "language_info": {
   "name": "python"
  }
 },
 "nbformat": 4,
 "nbformat_minor": 2
}
