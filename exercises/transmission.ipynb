{
 "cells": [
  {
   "cell_type": "code",
   "execution_count": 4,
   "metadata": {},
   "outputs": [],
   "source": [
    "import numpy as np\n",
    "import matplotlib.pyplot as plt\n",
    "from ase.visualize import view\n",
    "from ase.io import read\n",
    "from ase.build import graphene\n",
    "import seaborn as sb\n",
    "\n",
    "sb.set_theme(\"notebook\", \"darkgrid\")"
   ]
  },
  {
   "cell_type": "code",
   "execution_count": null,
   "metadata": {},
   "outputs": [],
   "source": [
    "## Use broadcasting\n",
    "def Greens_broadcast(energy, h, h_s, V, eta=1e-4, tol=1e-6, max_iter=30, **kwargs):\n",
    "    \"\"\"\n",
    "    Compute the Green's function for a semi-infinite chain using numpy broadcasting.\n",
    "\n",
    "    This function calculates the bulk and surface Green's functions for a system with \n",
    "    a semi-infinite chain, using iterative convergence. Broadcasting is utilized for \n",
    "    efficient matrix operations.\n",
    "\n",
    "    Parameters\n",
    "    ----------\n",
    "    energy : ndarray of shape `(K,)`\n",
    "        Array of energy values at which the Green's function is evaluated.\n",
    "    h : ndarray of shape `(N, N)`\n",
    "        On-site matrix for the bulk region of the semi-infinite chain.\n",
    "    h_s : ndarray of shape `(N, N)`\n",
    "        On-site matrix for the surface region (initial site of the chain).\n",
    "    V : ndarray of shape `(N, N)`\n",
    "        Hopping matrix that defines the coupling between adjacent sites.\n",
    "    eta : float, optional\n",
    "        Small imaginary component added to the energy for numerical stability, by default 1e-4.\n",
    "    tol : float, optional\n",
    "        Tolerance for convergence in the iterative calculation, by default 1e-6.\n",
    "    max_iter : int, optional\n",
    "        Maximum number of iterations allowed for convergence, by default 30.\n",
    "\n",
    "    Returns\n",
    "    -------\n",
    "    G_bulk : ndarray of shape `(K, N, N)`\n",
    "        Array representing the bulk Green's function at each energy point.\n",
    "    G_surf : ndarray of shape `(K, N, N)`\n",
    "        Array representing the surface Green's function at each energy point.\n",
    "\n",
    "    Notes\n",
    "    -----\n",
    "    - Convergence is achieved when the change in the self-energy terms between iterations \n",
    "      is below the specified tolerance (`tol`).\n",
    "    - The imaginary component (`eta`) ensures numerical stability but should be chosen small \n",
    "      enough to avoid affecting the results significantly.\n",
    "    \"\"\"\n",
    "    \n",
    "    # Get dimensions of input\n",
    "    K = len(energy)\n",
    "    N, _ = V.shape\n",
    "    n_dim = len(V.shape)\n",
    "    \n",
    "    # Define alpha_0, beta_0\n",
    "    alpha = V.transpose().copy()[None, ...]\n",
    "    beta = V.copy()[None, ...]\n",
    "    \n",
    "    # Define epsilon_bulk_0, epsilon_surface_0\n",
    "    E_bulk = h.copy()[None, ...]\n",
    "    E_surf = h_s.copy()[None, ...]\n",
    "    \n",
    "    # Define perturbated energy of size (K, N, N)\n",
    "    z = (energy + 1.j*eta)[:, *(None,)*n_dim] * np.identity(N)\n",
    "    \n",
    "    # Iterate parameters until convergence or max_iter reached\n",
    "    for _iteration in range(max_iter):\n",
    "        \n",
    "        # Iterate bulk and surface greens energy\n",
    "        G_bulk = np.linalg.inv(z - E_bulk)    \n",
    "            \n",
    "        # Iterate alpha and beta\n",
    "        alpha_new = alpha @ G_bulk @ alpha\n",
    "        beta_new =   beta @ G_bulk @ beta\n",
    "        \n",
    "        # Compute Left and Right self energies\n",
    "        L_energy =  beta @ G_bulk @ alpha\n",
    "        R_energy = alpha @ G_bulk @ beta\n",
    "        \n",
    "        # Bulk_self_energy = R_energy + L_energy\n",
    "        \n",
    "        # Iterate bulk and surface energy\n",
    "        E_bulk_new = E_bulk + R_energy + L_energy\n",
    "        E_surf_new = E_surf + R_energy\n",
    "        \n",
    "        # Check for convergence\n",
    "        if np.max(np.abs(alpha)) < tol:\n",
    "            # break if one of the values is below the tolerance level\n",
    "            break\n",
    "        \n",
    "        # Iterate by redefining parameters\n",
    "        alpha = alpha_new.copy()\n",
    "        beta =  beta_new.copy()\n",
    "        E_bulk = E_bulk_new.copy()\n",
    "        E_surf = E_surf_new.copy()\n",
    "        \n",
    "    G_surf = np.linalg.inv(z - E_surf)\n",
    "    return G_bulk, G_surf, E_bulk, E_surf\n"
   ]
  },
  {
   "cell_type": "code",
   "execution_count": 23,
   "metadata": {},
   "outputs": [
    {
     "data": {
      "text/plain": [
       "<Popen: returncode: None args: ['c:\\\\Users\\\\basti\\\\anaconda3\\\\envs\\\\10325\\\\p...>"
      ]
     },
     "execution_count": 23,
     "metadata": {},
     "output_type": "execute_result"
    }
   ],
   "source": [
    "def sort_atoms(atoms):\n",
    "    # Use numpy.lexsort to sort by z, then y, then x\n",
    "    pos = atoms.get_positions()\n",
    "    sorted_indices = np.lexsort((pos[:, 2], pos[:, 1], pos[:, 0]))\n",
    "    return atoms[sorted_indices]\n",
    "\n",
    "gr0 = graphene(formula='C2', vacuum=10.)  ## Note you can replace C2 by BN to create hexagonal BN sheets.\n",
    "a1, a2, a3 = gr0.cell\n",
    "A2 = a1 + 2*a2\n",
    "\n",
    "grsq = gr0.copy()\n",
    "grtmp = gr0.copy()\n",
    "atom2 = grtmp[0]\n",
    "atom2.position +=  (a1+a2)\n",
    "grsq = grsq + atom2\n",
    "grtmp = gr0.copy()\n",
    "atom3 = grtmp[1]\n",
    "atom3.position +=  a2\n",
    "grsq = grsq + atom3\n",
    "grsq.set_cell([a1,A2,a3])\n",
    "# view(grsq) # before sorting by z, then y, then x.\n",
    "grsq = sort_atoms(grsq)\n",
    "view(grsq)"
   ]
  },
  {
   "cell_type": "code",
   "execution_count": 25,
   "metadata": {},
   "outputs": [],
   "source": [
    "def hamiltonian(xyz):\n",
    "    a = 1.45 # Å\n",
    "    \n",
    "    # get pair-wise distance\n",
    "    dist = np.linalg.norm(xyz[None, :, :] - xyz[:, None, :], axis=2)\n",
    "    return np.where((dist < (a + 0.1)) & (dist > 0.1), 1, 0)"
   ]
  },
  {
   "cell_type": "code",
   "execution_count": 18,
   "metadata": {},
   "outputs": [
    {
     "data": {
      "text/plain": [
       "<Popen: returncode: None args: ['c:\\\\Users\\\\basti\\\\anaconda3\\\\envs\\\\10325\\\\p...>"
      ]
     },
     "execution_count": 18,
     "metadata": {},
     "output_type": "execute_result"
    }
   ],
   "source": []
  },
  {
   "cell_type": "code",
   "execution_count": null,
   "metadata": {},
   "outputs": [],
   "source": []
  }
 ],
 "metadata": {
  "kernelspec": {
   "display_name": "10325",
   "language": "python",
   "name": "python3"
  },
  "language_info": {
   "codemirror_mode": {
    "name": "ipython",
    "version": 3
   },
   "file_extension": ".py",
   "mimetype": "text/x-python",
   "name": "python",
   "nbconvert_exporter": "python",
   "pygments_lexer": "ipython3",
   "version": "3.11.11"
  }
 },
 "nbformat": 4,
 "nbformat_minor": 2
}
