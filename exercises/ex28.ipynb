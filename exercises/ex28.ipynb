{
 "cells": [
  {
   "cell_type": "code",
   "execution_count": 181,
   "metadata": {},
   "outputs": [],
   "source": [
    "import numpy as np\n",
    "import matplotlib.pyplot as plt\n",
    "from sympy import Matrix, symbols\n",
    "from ase.visualize import view\n",
    "from ase.build import graphene, graphene_nanoribbon\n",
    "from ase.io import read\n",
    "import seaborn as sb\n",
    "\n",
    "sb.set_theme(\"notebook\", \"darkgrid\")"
   ]
  },
  {
   "cell_type": "code",
   "execution_count": 182,
   "metadata": {},
   "outputs": [],
   "source": [
    "HL, V, Vd, HR = symbols(\"H_L, V, V^\\dagger, H_R\")\n",
    "\n",
    "H = Matrix([[HL, Vd],\n",
    "            [V, HR]])\n",
    "NR = Matrix([[0,0],\n",
    "             [0, 1]])"
   ]
  },
  {
   "cell_type": "code",
   "execution_count": 183,
   "metadata": {},
   "outputs": [
    {
     "data": {
      "text/latex": [
       "$\\displaystyle \\left[\\begin{matrix}0 & V^{\\dagger}\\\\0 & H_{R}\\end{matrix}\\right]$"
      ],
      "text/plain": [
       "Matrix([\n",
       "[0, V^\\dagger],\n",
       "[0,       H_R]])"
      ]
     },
     "execution_count": 183,
     "metadata": {},
     "output_type": "execute_result"
    }
   ],
   "source": [
    "H@NR"
   ]
  },
  {
   "cell_type": "code",
   "execution_count": 184,
   "metadata": {},
   "outputs": [
    {
     "data": {
      "text/latex": [
       "$\\displaystyle \\left[\\begin{matrix}0 & 0\\\\V & H_{R}\\end{matrix}\\right]$"
      ],
      "text/plain": [
       "Matrix([\n",
       "[0,   0],\n",
       "[V, H_R]])"
      ]
     },
     "execution_count": 184,
     "metadata": {},
     "output_type": "execute_result"
    }
   ],
   "source": [
    "NR@H"
   ]
  },
  {
   "cell_type": "code",
   "execution_count": 185,
   "metadata": {},
   "outputs": [
    {
     "data": {
      "text/latex": [
       "$\\displaystyle \\left[\\begin{matrix}0 & V^{\\dagger}\\\\- V & 0\\end{matrix}\\right]$"
      ],
      "text/plain": [
       "Matrix([\n",
       "[ 0, V^\\dagger],\n",
       "[-V,         0]])"
      ]
     },
     "execution_count": 185,
     "metadata": {},
     "output_type": "execute_result"
    }
   ],
   "source": [
    "H@NR - NR@H"
   ]
  },
  {
   "cell_type": "code",
   "execution_count": 186,
   "metadata": {},
   "outputs": [],
   "source": [
    "gL, gR = symbols(\"g_L g_R\")"
   ]
  },
  {
   "cell_type": "code",
   "execution_count": 187,
   "metadata": {},
   "outputs": [
    {
     "data": {
      "text/latex": [
       "$\\displaystyle \\left[\\begin{matrix}0 & V^{\\dagger} g_{L}\\\\V g_{R} & 0\\end{matrix}\\right]$"
      ],
      "text/plain": [
       "Matrix([\n",
       "[    0, V^\\dagger*g_L],\n",
       "[V*g_R,             0]])"
      ]
     },
     "execution_count": 187,
     "metadata": {},
     "output_type": "execute_result"
    }
   ],
   "source": [
    "Matrix([[gL, 0],\n",
    "        [0, gR]]) @ Matrix([[0, Vd],\n",
    "                            [V, 0]])\n"
   ]
  },
  {
   "cell_type": "markdown",
   "metadata": {},
   "source": [
    "![alt text](ex28-a.png)"
   ]
  },
  {
   "cell_type": "markdown",
   "metadata": {},
   "source": [
    "## Greens function"
   ]
  },
  {
   "cell_type": "code",
   "execution_count": 188,
   "metadata": {},
   "outputs": [],
   "source": [
    "## Use broadcasting\n",
    "def Greens_broadcast(energy, h, h_s, V, eta=1e-4, tol=1e-6, max_iter=30, **kwargs):\n",
    "    \"\"\"\n",
    "    Compute the Green's function for a semi-infinite chain using numpy broadcasting.\n",
    "\n",
    "    This function calculates the bulk and surface Green's functions for a system with \n",
    "    a semi-infinite chain, using iterative convergence. Broadcasting is utilized for \n",
    "    efficient matrix operations.\n",
    "\n",
    "    Parameters\n",
    "    ----------\n",
    "    energy : ndarray of shape `(K,)`\n",
    "        Array of energy values at which the Green's function is evaluated.\n",
    "    h : ndarray of shape `(N, N)`\n",
    "        On-site matrix for the bulk region of the semi-infinite chain.\n",
    "    h_s : ndarray of shape `(N, N)`\n",
    "        On-site matrix for the surface region (initial site of the chain).\n",
    "    V : ndarray of shape `(N, N)`\n",
    "        Hopping matrix that defines the coupling between adjacent sites.\n",
    "    eta : float, optional\n",
    "        Small imaginary component added to the energy for numerical stability, by default 1e-4.\n",
    "    tol : float, optional\n",
    "        Tolerance for convergence in the iterative calculation, by default 1e-6.\n",
    "    max_iter : int, optional\n",
    "        Maximum number of iterations allowed for convergence, by default 30.\n",
    "\n",
    "    Returns\n",
    "    -------\n",
    "    G_bulk : ndarray of shape `(K, N, N)`\n",
    "        Array representing the bulk Green's function at each energy point.\n",
    "    G_surf : ndarray of shape `(K, N, N)`\n",
    "        Array representing the surface Green's function at each energy point.\n",
    "\n",
    "    Notes\n",
    "    -----\n",
    "    - Convergence is achieved when the change in the self-energy terms between iterations \n",
    "      is below the specified tolerance (`tol`).\n",
    "    - The imaginary component (`eta`) ensures numerical stability but should be chosen small \n",
    "      enough to avoid affecting the results significantly.\n",
    "    \"\"\"\n",
    "    \n",
    "    # Get dimensions of input\n",
    "    K = len(energy)\n",
    "    N, _ = V.shape\n",
    "    n_dim = len(V.shape)\n",
    "    \n",
    "    # Define alpha_0, beta_0\n",
    "    alpha = V.transpose().copy()[None, ...]\n",
    "    beta = V.copy()[None, ...]\n",
    "    \n",
    "    # Define epsilon_bulk_0, epsilon_surface_0\n",
    "    E_bulk = h.copy()[None, ...]\n",
    "    E_surf = h_s.copy()[None, ...]\n",
    "    \n",
    "    # Define perturbated energy of size (K, N, N)\n",
    "    z = (energy + 1.j*eta)[:, *(None,)*n_dim] * np.identity(N)\n",
    "    \n",
    "    # Iterate parameters until convergence or max_iter reached\n",
    "    for _iteration in range(max_iter):\n",
    "        \n",
    "        # Iterate bulk and surface greens energy\n",
    "        G_bulk = np.linalg.inv(z - E_bulk)    \n",
    "            \n",
    "        # Iterate alpha and beta\n",
    "        alpha_new = alpha @ G_bulk @ alpha\n",
    "        beta_new =   beta @ G_bulk @ beta\n",
    "        \n",
    "        # Compute Left and Right self energies\n",
    "        L_energy =  beta @ G_bulk @ alpha\n",
    "        R_energy = alpha @ G_bulk @ beta\n",
    "        \n",
    "        # Bulk_self_energy = R_energy + L_energy\n",
    "        \n",
    "        # Iterate bulk and surface energy\n",
    "        E_bulk_new = E_bulk + R_energy + L_energy\n",
    "        E_surf_new = E_surf + R_energy\n",
    "        \n",
    "        # Check for convergence\n",
    "        if np.max(np.abs(alpha)) < tol:\n",
    "            # break if one of the values is below the tolerance level\n",
    "            break\n",
    "        \n",
    "        # Iterate by redefining parameters\n",
    "        alpha = alpha_new.copy()\n",
    "        beta =  beta_new.copy()\n",
    "        E_bulk = E_bulk_new.copy()\n",
    "        E_surf = E_surf_new.copy()\n",
    "        \n",
    "    G_surf = np.linalg.inv(z - E_surf)\n",
    "    return G_bulk, G_surf, E_bulk, E_surf"
   ]
  },
  {
   "cell_type": "markdown",
   "metadata": {},
   "source": [
    "## For plotting LDOS"
   ]
  },
  {
   "cell_type": "code",
   "execution_count": 189,
   "metadata": {},
   "outputs": [],
   "source": [
    "# Vpp = 1\n",
    "\n",
    "# on_site = Vpp * (np.diag(np.ones(3), -1) + np.diag(np.ones(3), 1))\n",
    "\n",
    "# hopping = Vpp * np.array([[0, 0, 0, 0],\n",
    "#                           [1, 0, 0, 0],\n",
    "#                           [0, 0, 0, 1],\n",
    "#                           [0, 0, 0, 0]])\n",
    "\n",
    "\n",
    "# Energy = np.linspace(-2, 2, num=1001)\n",
    "# G_bulk, G_surf, sigma_s, sigma_s = Greens_broadcast(Energy, h=on_site, h_s=on_site, V=hopping, get_Eb=True, eta=1e-2)\n",
    "\n",
    "\n",
    "# def plot_LDOS(fig, ax, Energy, Greens):\n",
    "#     colors= [\"r\", \"b\", \"k\", \"g\"]\n",
    "#     for i in range(Greens.shape[-1]):\n",
    "#         ax[i].plot(Energy, -1/np.pi * np.imag(Greens[:, i, i]), label=f\"Atom {i+1}\", color=colors[i])\n",
    "        \n",
    "# # Plotting\n",
    "# fig, axes = plt.subplots(4, 2, figsize=(6,6), sharex=True, sharey=True )\n",
    "\n",
    "# plot_LDOS(fig, axes[:, 0], Energy, Greens=G_bulk)\n",
    "# plot_LDOS(fig, axes[:, 1], Energy, Greens=G_surf)\n",
    "\n",
    "\n",
    "# for ax in axes[:,0].flatten():\n",
    "#     ax.set_ylabel(r\"$ -\\dfrac{1}{\\pi}\\ \\mathrm{Im}(G)$\")\n",
    "#     ax.legend(loc=(1.2,0.5))\n",
    "# axes[0,0].set_title(\"Bulk atoms\")\n",
    "# axes[0,1].set_title(\"Surface atoms\")\n",
    "# fig.tight_layout()"
   ]
  },
  {
   "cell_type": "code",
   "execution_count": 190,
   "metadata": {},
   "outputs": [],
   "source": [
    "# fig,ax = plt.subplots()\n",
    "# LDOS = -1/np.pi * np.imag(G_bulk)\n",
    "# print(LDOS.shape)\n",
    "# ax.plot(Energy, np.trace(LDOS, axis1=1, axis2=2))"
   ]
  },
  {
   "cell_type": "markdown",
   "metadata": {},
   "source": [
    "## Creates unique atoms in cell"
   ]
  },
  {
   "cell_type": "code",
   "execution_count": 191,
   "metadata": {},
   "outputs": [
    {
     "data": {
      "text/plain": [
       "<Popen: returncode: None args: ['c:\\\\Users\\\\basti\\\\anaconda3\\\\envs\\\\10325\\\\p...>"
      ]
     },
     "execution_count": 191,
     "metadata": {},
     "output_type": "execute_result"
    }
   ],
   "source": [
    "gr0 = graphene(formula='C2', vacuum=10.)  ## Note you can replace C2 by BN to create hexagonal BN sheets.\n",
    "a1,a2,a3 = gr0.cell\n",
    "view(gr0)"
   ]
  },
  {
   "cell_type": "code",
   "execution_count": 192,
   "metadata": {},
   "outputs": [],
   "source": [
    "A2 = a1 + 2*a2"
   ]
  },
  {
   "cell_type": "code",
   "execution_count": 193,
   "metadata": {},
   "outputs": [
    {
     "data": {
      "text/plain": [
       "<Popen: returncode: None args: ['c:\\\\Users\\\\basti\\\\anaconda3\\\\envs\\\\10325\\\\p...>"
      ]
     },
     "execution_count": 193,
     "metadata": {},
     "output_type": "execute_result"
    }
   ],
   "source": [
    "grsq = gr0.copy()\n",
    "grtmp = gr0.copy()\n",
    "atom2 = grtmp[0]\n",
    "atom2.position +=  (a1+a2)\n",
    "grsq = grsq + atom2\n",
    "grtmp = gr0.copy()\n",
    "atom3 = grtmp[1]\n",
    "atom3.position +=  a2\n",
    "grsq = grsq + atom3\n",
    "#gr1 = gr1 + atom3\n",
    "grsq.set_cell([a1,A2,a3])\n",
    "#grsq.get_positions()\n",
    "#gr1.cell\n",
    "view(grsq)"
   ]
  },
  {
   "cell_type": "markdown",
   "metadata": {},
   "source": [
    "## Sort atoms"
   ]
  },
  {
   "cell_type": "code",
   "execution_count": 213,
   "metadata": {},
   "outputs": [
    {
     "data": {
      "text/plain": [
       "<Popen: returncode: None args: ['c:\\\\Users\\\\basti\\\\anaconda3\\\\envs\\\\10325\\\\p...>"
      ]
     },
     "execution_count": 213,
     "metadata": {},
     "output_type": "execute_result"
    }
   ],
   "source": [
    "def sort_atoms(atoms):\n",
    "    # Use numpy.lexsort to sort by z, then y, then x\n",
    "    pos = atoms.get_positions()\n",
    "    sorted_indices = np.lexsort((pos[:, 2], pos[:, 1], pos[:, 0]))\n",
    "    return atoms[sorted_indices]\n",
    "\n",
    "grsq = sort_atoms(grsq)\n",
    "view(grsq)"
   ]
  },
  {
   "cell_type": "code",
   "execution_count": 222,
   "metadata": {},
   "outputs": [
    {
     "data": {
      "text/plain": [
       "<Popen: returncode: None args: ['c:\\\\Users\\\\basti\\\\anaconda3\\\\envs\\\\10325\\\\p...>"
      ]
     },
     "execution_count": 222,
     "metadata": {},
     "output_type": "execute_result"
    }
   ],
   "source": [
    "test = read(\"struct_a.xyz\")\n",
    "view(test)"
   ]
  },
  {
   "cell_type": "markdown",
   "metadata": {},
   "source": [
    "## Get positions and hamiltonian"
   ]
  },
  {
   "cell_type": "code",
   "execution_count": 218,
   "metadata": {},
   "outputs": [
    {
     "name": "stdout",
     "output_type": "stream",
     "text": [
      "[[ 0  0 10  0  0  0  0  0  0  0  0  0  0  0  0  0  0  0  0]\n",
      " [ 0  0  0 10  0  0  0  0  0  0  0  0  0  0  0  0  0  0  0]\n",
      " [10  0  0 10 10  0  0  0  0  0  0  0  0  0  0  0  0  0  0]\n",
      " [ 0 10 10  0  0 10  0  0  0  0  0  0  0  0  0  0  0  0  0]\n",
      " [ 0  0 10  0  0  0 10  0  0  0  0  0  0  0  0  0  0  0  0]\n",
      " [ 0  0  0 10  0  0  0 10  0  0  0  0  0  0  0  0  0  0  0]\n",
      " [ 0  0  0  0 10  0  0 10  0  0  0  0  0  0  0  0  0  0  0]\n",
      " [ 0  0  0  0  0 10 10  0 10  0  0  0  0  0  0  0  0  0  0]\n",
      " [ 0  0  0  0  0  0  0 10  0  0 10  0  0  0  0  0  0  0  0]\n",
      " [ 0  0  0  0  0  0  0  0  0  0 10 10  0  0  0  0  0  0  0]\n",
      " [ 0  0  0  0  0  0  0  0 10 10  0  0 10  0  0  0  0  0  0]\n",
      " [ 0  0  0  0  0  0  0  0  0 10  0  0  0 10  0  0  0  0  0]\n",
      " [ 0  0  0  0  0  0  0  0  0  0 10  0  0  0 10  0  0  0  0]\n",
      " [ 0  0  0  0  0  0  0  0  0  0  0 10  0  0 10 10  0  0  0]\n",
      " [ 0  0  0  0  0  0  0  0  0  0  0  0 10 10  0  0 10  0  0]\n",
      " [ 0  0  0  0  0  0  0  0  0  0  0  0  0 10  0  0  0 10  0]\n",
      " [ 0  0  0  0  0  0  0  0  0  0  0  0  0  0 10  0  0  0 10]\n",
      " [ 0  0  0  0  0  0  0  0  0  0  0  0  0  0  0 10  0  0 10]\n",
      " [ 0  0  0  0  0  0  0  0  0  0  0  0  0  0  0  0 10 10  0]]\n"
     ]
    }
   ],
   "source": [
    "def hamiltonian(xyz):\n",
    "    a = 1.45 # Å\n",
    "    \n",
    "    # get pair-wise distance\n",
    "    dist = np.linalg.norm(xyz[None, :, :] - xyz[:, None, :], axis=2)\n",
    "    return np.where((dist < (a + 0.1)) & (dist > 0.1), 1, 0)\n",
    "# Output a test\n",
    "\n",
    "xyz = test.get_positions()\n",
    "H = hamiltonian(xyz)\n",
    "with np.printoptions(linewidth=110):\n",
    "    print(H*10)"
   ]
  },
  {
   "cell_type": "markdown",
   "metadata": {},
   "source": [
    "## Transmission"
   ]
  },
  {
   "cell_type": "code",
   "execution_count": 219,
   "metadata": {},
   "outputs": [],
   "source": [
    "# def k_vec(E, beta, eps):\n",
    "#     arg = (eps - E)/(2*beta)\n",
    "#     # print(f\"min(arg) = {arg.min()}\")\n",
    "#     # print(f\"max(arg) = {arg.max()}\")\n",
    "#     return np.arccos(arg)\n",
    "\n",
    "# def Infinite_chain(energy, on_site, hopping, beta=1, eps=0, eps_prime=10,  eta=1e-3,):\n",
    "#     n_dim = len(hopping.shape)\n",
    "#     K = len(energy)\n",
    "#     N = hopping.shape[-1]\n",
    "#     z = (energy + 1.j*eta)[:,  *(None,)*n_dim] * np.identity(N)\n",
    "    \n",
    "#     *(G_bulk, G_surf), E_surf = Greens_broadcast(energy, h=on_site, h_s=on_site, V=hopping, eta=eta, eps=eps)\n",
    "    \n",
    "#     # E_surf is the `epsilon_s = h + Sigma_R` from exercise 21.\n",
    "#     BETA =  beta*hopping # make a (N,N) identity matrix with \n",
    "#     ENERGY_CHAIN = E_surf - eps\n",
    "#     ENERGY_CENTER = z - eps_prime\n",
    "#     ZEROS = np.zeros((N,N))\n",
    "    \n",
    "#     # Initilize an empty array\n",
    "#     MATRIX = np.empty((K, 3*N, 3*N), dtype=np.complex128)\n",
    "    \n",
    "    \n",
    "#     # Construct matrix\n",
    "#     ##\n",
    "#     ##            | ENERGY_CHAIN,      BETA     ,    ZEROS      |\n",
    "#     ## MATRIX  =  |     BETA    ,  ENERGY_CENTER,     BETA      |\n",
    "#     ##            |    ZEROS    ,      BETA     ,  ENERGY_CHAIN |\n",
    "#     ##\n",
    "    \n",
    "#     # Define element MATRIX[-1, -1] \n",
    "#     MATRIX[:, :N, :N] = ENERGY_CHAIN\n",
    "#     # Define MATRIX[0, 0]\n",
    "#     MATRIX[:, N:2*N, N:2*N] = ENERGY_CENTER\n",
    "#     # Define MATRIX[1, 1]\n",
    "#     MATRIX[:, 2*N:3*N, 2*N:3*N] = ENERGY_CHAIN\n",
    "    \n",
    "#     # Define MATRIX[-1, 0]\n",
    "#     MATRIX[:, :N, N:2*N] = BETA\n",
    "#     # Define MATRIX[0, -1]\n",
    "#     MATRIX[:, N:2*N, :N] = BETA\n",
    "#     # Define MATRIX[0, 1]\n",
    "#     MATRIX[:, N:2*N, 2*N:3*N] = BETA\n",
    "#     # Define MATRIX[1, 0]\n",
    "#     MATRIX[:, 2*N:3*N, N:2*N] = BETA\n",
    "    \n",
    "#     # Define MATRIX[-1, 1]\n",
    "#     MATRIX[:, :N, 2*N:3*N] = ZEROS\n",
    "#     # Define MATRIX[1, -1]\n",
    "#     MATRIX[:, 2*N:3*N, :N] = ZEROS\n",
    "    \n",
    "#     G = np.linalg.inv(MATRIX)\n",
    "#     return G\n",
    "\n",
    "# # G_L = Infinite_chain(energy, on_site=HL, hopping=VL)\n",
    "# # R_L = Infinite_chain(energy, on_site=HR, hopping=VR)\n",
    "\n"
   ]
  },
  {
   "cell_type": "code",
   "execution_count": 220,
   "metadata": {},
   "outputs": [],
   "source": [
    "def compute_transmission(xyz_sorted, energy, N_L, N_R, eta=1e-3):\n",
    "    \n",
    "    Ham = hamiltonian(xyz_sorted)\n",
    "    \n",
    "    # print(Ham)\n",
    "    \n",
    "    \n",
    "    H_D = Ham[N_L:-N_R, N_L:-N_R]\n",
    "    \n",
    "    print(Ham)\n",
    "    # print(Ham)\n",
    "    N_ham = Ham.shape[0] # hamiltonian is of shape (N_ham, N_ham)\n",
    "    n_dim = len(Ham.shape)\n",
    "    z = (energy + 1.j*eta) # perturbed energy times identity matrix\n",
    "    zI = z[:, None, None] * np.identity(H_D.shape[0])\n",
    "    \n",
    "    # Construct matrix\n",
    "    ##\n",
    "    ##            |    H_L   ,  V_L^T   |\n",
    "    ##   Left  =  |    V_L   ,  H_L     |\n",
    "    ##\n",
    "    \n",
    "    H_L = Ham[:N_L, :N_L]\n",
    "    V_L = Ham[N_L:2*N_L, :N_L]\n",
    "\n",
    "    \n",
    "    \n",
    "    Gb_L, Gs_L, _Eb_L, _Es_L = Greens_broadcast(energy, h=H_L, h_s=H_L, V=V_L, eta=eta)\n",
    "    \n",
    "    \n",
    "    # Construct matrix\n",
    "    ##\n",
    "    ##            |    H_R   ,  V_R^T   |\n",
    "    ##   Right =  |    V_R   ,  H_R     |\n",
    "    ##\n",
    "    \n",
    "    H_R = Ham[-N_R:, -N_R:]\n",
    "    V_R = Ham[-N_R:, -2*N_R:-N_R]\n",
    "    \n",
    "    Gb_R, Gs_R, _Eb_R, _Es_R = Greens_broadcast(energy, h=H_R, h_s=H_R, V=V_R, eta=eta)\n",
    "    \n",
    "    \n",
    "    V_C_L = Ham[N_L:-N_R, :N_L]\n",
    "    V_C_R = Ham[N_L:-N_R, -N_R:]\n",
    "    \n",
    "    Sigma_L = V_C_L @ Gs_L @ V_C_L.transpose().conj()   \n",
    "    Sigma_R = V_C_R @ Gs_R @ V_C_R.transpose().conj()\n",
    "    \n",
    "    G_D = np.linalg.inv(zI - H_D - Sigma_L - Sigma_R)\n",
    "    \n",
    "    Gamma_L = -2*np.imag(Sigma_L)\n",
    "    Gamma_R = -2*np.imag(Sigma_R)\n",
    "    \n",
    "    Ts = Gamma_R @ G_D @ Gamma_L @ G_D.transpose(0, 2, 1).conj()\n",
    "    \n",
    "    \n",
    "    return np.trace(Ts, axis1=1, axis2=2), G_D, Gb_R, Gb_L"
   ]
  },
  {
   "cell_type": "code",
   "execution_count": 221,
   "metadata": {},
   "outputs": [
    {
     "name": "stdout",
     "output_type": "stream",
     "text": [
      "[[0 0 1 0 0 0 0 0 0 0 0 0 0 0 0 0 0 0 0]\n",
      " [0 0 0 1 0 0 0 0 0 0 0 0 0 0 0 0 0 0 0]\n",
      " [1 0 0 1 1 0 0 0 0 0 0 0 0 0 0 0 0 0 0]\n",
      " [0 1 1 0 0 1 0 0 0 0 0 0 0 0 0 0 0 0 0]\n",
      " [0 0 1 0 0 0 1 0 0 0 0 0 0 0 0 0 0 0 0]\n",
      " [0 0 0 1 0 0 0 1 0 0 0 0 0 0 0 0 0 0 0]\n",
      " [0 0 0 0 1 0 0 1 0 0 0 0 0 0 0 0 0 0 0]\n",
      " [0 0 0 0 0 1 1 0 1 0 0 0 0 0 0 0 0 0 0]\n",
      " [0 0 0 0 0 0 0 1 0 0 1 0 0 0 0 0 0 0 0]\n",
      " [0 0 0 0 0 0 0 0 0 0 1 1 0 0 0 0 0 0 0]\n",
      " [0 0 0 0 0 0 0 0 1 1 0 0 1 0 0 0 0 0 0]\n",
      " [0 0 0 0 0 0 0 0 0 1 0 0 0 1 0 0 0 0 0]\n",
      " [0 0 0 0 0 0 0 0 0 0 1 0 0 0 1 0 0 0 0]\n",
      " [0 0 0 0 0 0 0 0 0 0 0 1 0 0 1 1 0 0 0]\n",
      " [0 0 0 0 0 0 0 0 0 0 0 0 1 1 0 0 1 0 0]\n",
      " [0 0 0 0 0 0 0 0 0 0 0 0 0 1 0 0 0 1 0]\n",
      " [0 0 0 0 0 0 0 0 0 0 0 0 0 0 1 0 0 0 1]\n",
      " [0 0 0 0 0 0 0 0 0 0 0 0 0 0 0 1 0 0 1]\n",
      " [0 0 0 0 0 0 0 0 0 0 0 0 0 0 0 0 1 1 0]]\n"
     ]
    },
    {
     "data": {
      "image/png": "[encoded data removed]",
      "text/plain": [
       "<Figure size 1000x600 with 1 Axes>"
      ]
     },
     "metadata": {},
     "output_type": "display_data"
    }
   ],
   "source": [
    "E = np.linspace(-3, 3, num=1001)\n",
    "\n",
    "T, G_D, Gb_R, Gb_L = compute_transmission(xyz, E, 4, 4, eta=1e-2)\n",
    "fig, ax = plt.subplots(1,1, figsize=(10,6))\n",
    "\n",
    "# ax.plot(E, -np.trace(Gb_L.imag, axis1=1, axis2=2), label=\"Left\",  color=\"k\", lw=3)\n",
    "# ax.plot(E, -np.trace(Gb_R.imag, axis1=1, axis2=2), label=\"Right\", color=\"r\", lw=2.5, linestyle=\":\")\n",
    "# ax.plot(E, -np.trace(G_D.imag,  axis1=1, axis2=2), label=\"G_D\")\n",
    "ax.plot(E, T.real, label=\"Transmission\")\n",
    "\n",
    "ax.legend(); "
   ]
  },
  {
   "cell_type": "code",
   "execution_count": 200,
   "metadata": {},
   "outputs": [
    {
     "data": {
      "text/plain": [
       "<Popen: returncode: None args: ['c:\\\\Users\\\\basti\\\\anaconda3\\\\envs\\\\10325\\\\p...>"
      ]
     },
     "execution_count": 200,
     "metadata": {},
     "output_type": "execute_result"
    }
   ],
   "source": [
    "view(test)"
   ]
  },
  {
   "cell_type": "code",
   "execution_count": null,
   "metadata": {},
   "outputs": [],
   "source": []
  }
 ],
 "metadata": {
  "kernelspec": {
   "display_name": "10325",
   "language": "python",
   "name": "python3"
  },
  "language_info": {
   "codemirror_mode": {
    "name": "ipython",
    "version": 3
   },
   "file_extension": ".py",
   "mimetype": "text/x-python",
   "name": "python",
   "nbconvert_exporter": "python",
   "pygments_lexer": "ipython3",
   "version": "3.11.11"
  }
 },
 "nbformat": 4,
 "nbformat_minor": 2
}
