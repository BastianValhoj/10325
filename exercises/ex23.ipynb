{
 "cells": [
  {
   "cell_type": "markdown",
   "metadata": {},
   "source": [
    "![alt text](ex23-ab.png)"
   ]
  },
  {
   "cell_type": "markdown",
   "metadata": {},
   "source": [
    "![alt text](ex23-eqs.png)"
   ]
  },
  {
   "cell_type": "markdown",
   "metadata": {},
   "source": [
    "## a)"
   ]
  },
  {
   "cell_type": "markdown",
   "metadata": {},
   "source": [
    "$$\\begin{align*}\n",
    "    \\Gamma_L(E) &= -2\\mathrm{Im}[\\Sigma_L(E)],\n",
    "    \\\\\n",
    "    \\quad \\Sigma_L(E) &= -\\beta_L^2 \\frac{e^{ik}}{|\\beta|}\n",
    "\\end{align*}$$"
   ]
  },
  {
   "cell_type": "markdown",
   "metadata": {},
   "source": [
    "$$\\begin{align*}\n",
    "% \\frac{d}{d t}n &= \\frac{d}{d t}n_L + \\frac{d}{d t}n_R + \\frac{d}{d t}n_C = 0\n",
    "    \\\\\n",
    "    \\frac{d}{d t}n_L &= - \\Gamma_L(n_L - n_C) \n",
    "    % \\\\ &= -2\\mathrm{Im}\\left(\\beta^2_L\\frac{-\\cos{k} - i\\sin{k}}{|\\beta|}\\right)\n",
    "    % \\\\ &= 2\\sin(k)\\frac{\\beta_L^2}{|\\beta|}(n_L - n_C)\n",
    "\\end{align*}$$\n"
   ]
  },
  {
   "cell_type": "markdown",
   "metadata": {},
   "source": [
    "$$\\begin{align*}\n",
    "    \\frac{d}{d t}n_R &= - \\Gamma_R(n_R - n_C) \n",
    "    % \\\\ &= 2\\sin(k)\\frac{\\beta_R^2}{|\\beta|}(n_R - n_C)\n",
    "\\end{align*}$$"
   ]
  },
  {
   "cell_type": "markdown",
   "metadata": {
    "vscode": {
     "languageId": "plaintext"
    }
   },
   "source": [
    "$$\\begin{align*}\n",
    "    \\frac{d}{d t}n_C &= - (\\Gamma_R + \\Gamma_L)n_C + \\Gamma_L n_L + \\Gamma_R n_R \n",
    "    % \\\\ &= -\\left(2\\sin(k)\\frac{\\beta^2_R}{|\\beta|} + 2\\sin(k)\\frac{\\beta^2_L}{|\\beta|}\\right)n_C + 2\\sin(k)\\frac{\\beta^2_L}{|\\beta|}n_L + 2\\sin(k)\\frac{\\beta^2_R}{|\\beta|}n_R\n",
    "    % \\\\ &= 2\\frac{\\sin(k)}{|\\beta|}\\left( -\\beta_R^2n_C - \\beta_L^2 n_C + \\beta^2_Ln_L + \\beta^2_R n_R \\right)    \n",
    "\\end{align*}$$\n"
   ]
  },
  {
   "cell_type": "markdown",
   "metadata": {
    "vscode": {
     "languageId": "plaintext"
    }
   },
   "source": [
    "$$\\begin{align*}\n",
    "    \\frac{d}{d t}n &= \\frac{d}{d t}n_C + \\frac{d}{d t}n_L + \\frac{d}{d t}n_R\n",
    "    \\\\ &= - (\\Gamma_R + \\Gamma_L)n_C + \\Gamma_L n_L + \\Gamma_R n_R - \\Gamma_L(n_L - n_C) - \\Gamma_R(n_R- n_C) \n",
    "    \\\\ &= \\cancel{-\\Gamma_R n_C} - \\Gamma_L n_C + \\Gamma_L n_L + \\Gamma_R n_R - \\Gamma_L n_L + \\Gamma_L n_C - \\Gamma_R n_R + \\cancel{\\Gamma_R n_C}\n",
    "    \\\\ &= \\cancel{- \\Gamma_L n_C} + \\Gamma_L n_L + \\Gamma_R n_R - \\Gamma_L n_L + \\cancel{\\Gamma_L n_C} - \\Gamma_R n_R\n",
    "    \\\\ &= \\cancel{\\Gamma_L n_L} + \\Gamma_R n_R \\ \\cancel{-\\Gamma_L n_L} - \\Gamma_R n_R\n",
    "    \\\\ &=  \\Gamma_R n_R - \\Gamma_R n_R = 0\n",
    "    % \\\\ &= 2\\frac{\\sin(k)}{|\\beta|}\\left( -\\beta_R^2n_C - \\beta_L^2 n_C + \\beta^2_Ln_L + \\beta^2_R n_R \\right) \n",
    "    % + 2\\frac{\\sin(k)}{|\\beta|}\\left(\\beta^2_R n_R - \\beta^2_Rn_C\\right)  2\\frac{\\sin(k)}{|\\beta|}\\left(\\beta^2_L n_L - \\beta^2_L n_C\\right)  \n",
    "\\end{align*}$$"
   ]
  },
  {
   "cell_type": "markdown",
   "metadata": {},
   "source": [
    "## b)"
   ]
  },
  {
   "cell_type": "markdown",
   "metadata": {},
   "source": [
    "<!-- $$\\begin{align*}\n",
    "    \\frac{d}{d t}n &= \\frac{d}{d t}n_C + \\frac{d}{d t}n_L + \\frac{d}{d t}n_R\n",
    "    \\\\ &= - (\\Gamma_R + \\Gamma_L)n_C + \\Gamma_L n_L + \\Gamma_R n_R - \\Gamma_L(n_L - n_C) - \\Gamma_R(n_R- n_C) = 0\n",
    "\\end{align*}$$ -->"
   ]
  },
  {
   "cell_type": "markdown",
   "metadata": {},
   "source": [
    "<!-- $$\\begin{align*}\n",
    "    \\Gamma_L n_L + \\Gamma_R n_R - \\Gamma_L(n_L - n_C) - \\Gamma_R(n_R- n_C) &= (\\Gamma_R + \\Gamma_L)n_C\n",
    "    \\\\\n",
    "    \\Gamma_L n_L + \\Gamma_R n_R - \\Gamma_Ln_L + \\Gamma_Ln_C - \\Gamma_R n_R + \\Gamma_R n_C &= (\\Gamma_R + \\Gamma_L)n_C\n",
    "    \\\\\n",
    "    \\Gamma_L n_L + \\Gamma_R n_R - \\Gamma_Ln_L - \\Gamma_R n_R + (\\Gamma_L + \\Gamma_R)n_C &= (\\Gamma_R + \\Gamma_L)n_C\n",
    "\\end{align*}$$ -->"
   ]
  },
  {
   "cell_type": "markdown",
   "metadata": {},
   "source": [
    "Using that we have a steady state, $d_t n_C = 0\n",
    "$$\\begin{align*}\n",
    "    \\frac{d}{dt} n_C = -(\\Gamma_L + \\Gamma_R)n_C + \\Gamma_L n_L + \\Gamma_R n_R &= 0\n",
    "\\end{align*}$$\n",
    "\n",
    "Assuming that site $L$ is always filled with incomming electrons, and site $R$ is always emptying its electrons, then we have $n_L = 1$, and $n_R = 0$.\n",
    "\n",
    "$$\\begin{align*}\n",
    "    \\Rightarrow \\frac{d}{dt} n_C = -(\\Gamma_L + \\Gamma_R)n_C + \\Gamma_L  &= 0\n",
    "    \\\\\n",
    "    (\\Gamma_L + \\Gamma_R)n_C &= \\Gamma_L\n",
    "    \\\\\n",
    "    n_C &= \\frac{\\Gamma_L}{\\Gamma_L + \\Gamma_R}\\quad \\square\n",
    "\\end{align*}$$"
   ]
  },
  {
   "cell_type": "markdown",
   "metadata": {},
   "source": [
    "Defining the current as the flow from $R$ through $C$ then gives us\n",
    "\n",
    "$$\\begin{align*}\n",
    "    I = \\Gamma_R n_C = \\frac{\\Gamma_L \\Gamma_R}{\\Gamma_L + \\Gamma_R}\n",
    "\\end{align*}$$"
   ]
  },
  {
   "cell_type": "code",
   "execution_count": null,
   "metadata": {
    "vscode": {
     "languageId": "plaintext"
    }
   },
   "outputs": [],
   "source": []
  }
 ],
 "metadata": {
  "language_info": {
   "name": "python"
  }
 },
 "nbformat": 4,
 "nbformat_minor": 2
}
