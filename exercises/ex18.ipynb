{
 "cells": [
  {
   "cell_type": "code",
   "execution_count": 2,
   "metadata": {},
   "outputs": [],
   "source": [
    "import numpy as np\n",
    "import matplotlib.pyplot as plt\n",
    "\n",
    "\n",
    "%matplotlib inline"
   ]
  },
  {
   "cell_type": "markdown",
   "metadata": {},
   "source": [
    "![Exercise-18](ex18.png)"
   ]
  },
  {
   "cell_type": "markdown",
   "metadata": {},
   "source": [
    "## a)"
   ]
  },
  {
   "cell_type": "markdown",
   "metadata": {},
   "source": [
    "$$\\begin{align*}\n",
    "    \\mathrm{LDOS}\\Big\\vert_{00} &= -\\frac{1}{\\pi}\\mathrm{Im}(\\mathbf{G}_{00}(E)) \n",
    "    \\\\\n",
    "    % \\mathbf{G}_{00}(t) &= \\frac{i}{2\\pi}\\int_{-\\infty}^\\infty dE\\ e^{-iEt}\\mathbf{G}_{00}(E) \n",
    "    \\\\  \\mathbf{G}_{00}(E) &= \\left.\\frac{1}{E + i\\eta - \\varepsilon - \\Sigma}\\right\\vert_{\\Sigma = \\Lambda - i\\Gamma/2}\n",
    "    % \\\\  &= \\frac{1}{E + i\\eta - \\varepsilon - \\Lambda + i\\Gamma/2}\n",
    "    \\\\  &= \\frac{1}{E - \\varepsilon - \\Lambda + i(\\eta + \\Gamma/2)} = \\frac{(E - \\varepsilon - \\Lambda) - i(\\eta + \\Gamma/2)}{(E - \\varepsilon - \\Lambda)^2 + (\\eta + \\Gamma/2)^2}\n",
    "    \\\\ \\mathrm{LDOS}\\vert_{00} &=\\frac{\\eta + \\Gamma/2}{\\pi\\left((E - \\varepsilon - \\Lambda)^2 + (\\eta + \\Gamma/2)^2\\right)}\n",
    "\\end{align*}$$"
   ]
  },
  {
   "cell_type": "markdown",
   "metadata": {},
   "source": [
    "## b)"
   ]
  },
  {
   "cell_type": "code",
   "execution_count": null,
   "metadata": {},
   "outputs": [],
   "source": []
  }
 ],
 "metadata": {
  "kernelspec": {
   "display_name": "10325",
   "language": "python",
   "name": "python3"
  },
  "language_info": {
   "codemirror_mode": {
    "name": "ipython",
    "version": 3
   },
   "file_extension": ".py",
   "mimetype": "text/x-python",
   "name": "python",
   "nbconvert_exporter": "python",
   "pygments_lexer": "ipython3",
   "version": "3.11.11"
  }
 },
 "nbformat": 4,
 "nbformat_minor": 2
}
