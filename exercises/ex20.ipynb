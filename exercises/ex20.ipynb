{
 "cells": [
  {
   "cell_type": "markdown",
   "metadata": {},
   "source": [
    "![alt text](ex20-a.png)\n"
   ]
  },
  {
   "cell_type": "markdown",
   "metadata": {
    "vscode": {
     "languageId": "plaintext"
    }
   },
   "source": [
    "## a)\n",
    "$$\n",
    "\\begin{array}{ccccc}\n",
    "\\hline\n",
    "    \\alpha_0            & \\beta_0       & \\varepsilon_{s0}  & \\varepsilon_{0} &  g_{bj} \\\\ \\hline\n",
    "    \\mathbf{V}^\\dagger  & \\mathbf{V}    & \\mathbf{h}_s      & \\mathbf{h}        & (z - \\varepsilon_j)^{-1}\\\\\n",
    "% \\hline\n",
    "\\end{array}\n",
    "$$"
   ]
  },
  {
   "cell_type": "markdown",
   "metadata": {
    "vscode": {
     "languageId": "plaintext"
    }
   },
   "source": [
    "$$\\begin{align*}\n",
    "    \\begin{pmatrix}\n",
    "        z-\\varepsilon_{s}   & -\\alpha            & 0                 & 0         & 0 & \\cdots \\\\\n",
    "        -\\beta               & z - \\varepsilon   & -\\alpha            & 0         & 0 & \\cdots \\\\\n",
    "        0                   & -\\beta             & z - \\varepsilon   & -\\alpha    & 0 & \\cdots \\\\ \n",
    "        \\vdots              & \\vdots            & \\ddots            & \\ddots    & \\ddots & \\cdots\n",
    "    \\end{pmatrix}\n",
    "    \\begin{pmatrix}\n",
    "        \\mathbf{G}_{00} \\\\\n",
    "        \\mathbf{G}_{10} \\\\\n",
    "        \\mathbf{G}_{20} \\\\\n",
    "        % \\mathbf{G}_{30} \\\\\n",
    "        \\vdots\n",
    "    \\end{pmatrix}\n",
    "    &=\n",
    "    \\begin{pmatrix} \n",
    "        1 \\\\ \n",
    "        0 \\\\ \n",
    "        0 \\\\ \n",
    "        \\vdots\n",
    "    \\end{pmatrix}\n",
    "    \\\\\n",
    "    \\begin{pmatrix}\n",
    "        (z - \\varepsilon_{s})\\mathbf{G}_{00} - \\alpha\\mathbf{G}_{10}\n",
    "        \\\\\n",
    "        -\\beta\\mathbf{G}_{00} + (z - \\varepsilon)\\mathbf{G}_{10} - \\alpha\\mathbf{G}_{20}\n",
    "        \\\\\n",
    "        -\\beta\\mathbf{G}_{10} + (z - \\varepsilon)\\mathbf{G}_{20} - \\alpha\\mathbf{G}_{30}\n",
    "        \\\\\n",
    "        \\vdots\n",
    "    \\end{pmatrix}\n",
    "    &=\n",
    "    \\begin{pmatrix} \n",
    "        1 \\\\ \n",
    "        0 \\\\ \n",
    "        0 \\\\ \n",
    "        \\vdots\n",
    "    \\end{pmatrix}\n",
    "\\end{align*}$$"
   ]
  },
  {
   "cell_type": "markdown",
   "metadata": {},
   "source": [
    "From this we can see the equations\n",
    "\n",
    "$$\\begin{align*}\n",
    "    &\\begin{cases}\n",
    "        (z-\\varepsilon_s)G_0 - \\alpha G_0 &= 1 \\\\\n",
    "        -\\beta G_0 + (z-\\varepsilon)G_1 - \\alpha G_2 &= 0 \\\\\n",
    "        -\\beta G_1 + (z - \\varepsilon)G_2 - \\alpha G_3 &= 0 \\\\\n",
    "        -\\beta G_2 + (z - \\varepsilon)G_3 - \\alpha G_4 &= 0\n",
    "    \\end{cases}\n",
    "    \\\\ \\Rightarrow\n",
    "    &\\begin{cases}\n",
    "        G_0  &= (z-\\varepsilon_s)^{-1}\\Big(1 + \\alpha G_1\\Big) \\\\\n",
    "        G_1  &= (z-\\varepsilon)^{-1}\\beta G_0 + (z-\\varepsilon)^{-1}\\alpha G_2 \\\\\n",
    "        G_2  &= (z-\\varepsilon)^{-1}\\beta G_1 + (z-\\varepsilon)^{-1}\\alpha G_3 \\\\\n",
    "        G_3  &= (z-\\varepsilon)^{-1}\\beta G_2 + (z-\\varepsilon)^{-1}\\alpha G_4 \\\\\n",
    "    \\end{cases}\n",
    "    \\\\ = \n",
    "    &\\begin{cases}\n",
    "        G_0  &= (z-\\varepsilon_s)^{-1} + (z-\\varepsilon_s)^{-1}\\alpha G_1 \\\\\n",
    "        G_1  &= g\\beta G_0 + g\\alpha G_2 \\\\\n",
    "        G_2  &= g\\beta G_1 + g\\alpha G_3 \\\\\n",
    "        G_3  &= g\\beta G_2 + g\\alpha G_4 \\\\\n",
    "    \\end{cases}\n",
    "    \\\\ \\Rightarrow\n",
    "    &\\begin{cases}\n",
    "        (z-\\varepsilon_s)G_0 - \\alpha g\\beta G_0 - \\alpha g \\alpha G_2  &= 1    \\\\\n",
    "        -\\beta G_0 + (z-\\varepsilon)\\Big(g\\beta G_0 + g\\alpha G_2\\Big) - \\alpha G_2 &= 0   \\\\\n",
    "        -\\beta G_1 + (z-\\varepsilon)\\Big(g\\beta G_1 + g\\alpha G_3\\Big) - \\alpha G_3 &= 0   \\\\\n",
    "        -\\beta G_2 + (z-\\varepsilon)\\Big(g\\beta G_2 + g\\alpha G_4\\Big) - \\alpha G_4 &= 0   \\\\\n",
    "    \\end{cases}\n",
    "\\end{align*}$$\n",
    "\n",
    "Now we insert the odd indexed $G$'s in the other equations to get\n",
    "\n",
    "$$\\begin{align*}\n",
    "    &\\begin{cases}\n",
    "        (z-\\varepsilon_s - \\alpha g \\beta)G_0 - \\alpha g \\alpha G_2  &= 1    \\\\\n",
    "        \\\\\n",
    "        -\\beta \\Big(g\\beta G_0 + g\\alpha G_2 \\Big) + (z - \\varepsilon)G_2 - \\alpha \\Big(g\\beta G_2 + g\\alpha G_4\\Big) &= 0 \\\\\n",
    "        \\\\\n",
    "    \\end{cases}\n",
    "    \\\\ = \n",
    "    &\\begin{cases}\n",
    "        (z-\\varepsilon_s - \\alpha g \\beta)G_0 - \\alpha g \\alpha G_2  &= 1    \\\\\n",
    "        \\\\\n",
    "        -\\beta g\\beta G_0 -\\beta g\\alpha G_2 + (z - \\varepsilon)G_2 - \\alpha g\\beta G_2 - \\alpha g\\alpha G_4 &= 0 \\\\\n",
    "        \\\\\n",
    "    \\end{cases}\n",
    "    \\\\ \\Rightarrow\n",
    "    &\\begin{cases}\n",
    "        (z - \\varepsilon_{s0} - \\alpha_0 g_0 \\beta_0)G_0 - \\alpha_0 g_0 \\alpha_0 G_2  &= 1    \\\\\n",
    "        \\\\\n",
    "        -\\beta_0 g_0 \\beta_0 G_0 + (z - \\varepsilon_0 -\\beta_0 g_0\\alpha_0 - \\alpha_0 g_0\\beta_0)G_2 - \\alpha_0 g_0\\alpha_0 G_4 &= 0 \\\\\n",
    "        \\\\\n",
    "    \\end{cases}\n",
    "    \\\\ =\n",
    "    &\\begin{cases}\n",
    "        (z - \\varepsilon_{s1})G_0 - \\alpha_1 G_2  &= 1    \\\\\n",
    "        \\\\\n",
    "        -\\beta_1 G_0 + (z - \\varepsilon_1)G_2 - \\alpha_1 G_4 &= 0 \\\\\n",
    "        \\\\\n",
    "    \\end{cases}\n",
    "\\end{align*}$$"
   ]
  },
  {
   "cell_type": "markdown",
   "metadata": {},
   "source": [
    "From the above we see that we have eliminated every other row of the original matrix, and gotten a new semi-infinite matrix with the matrix elements defined by\n",
    "\n",
    "$$\\begin{align*}\n",
    "    \\alpha_{j+1} &= \\alpha_j g_j \\alpha_j \\\\\n",
    "    \\beta_{j+1} &= \\beta_j g_j \\beta_j \\\\\n",
    "    \\varepsilon_{j+1} &= \\varepsilon + \\beta_j g_j \\alpha_j + \\alpha_j g_j \\beta_j \\\\\n",
    "    \\varepsilon_{sj} &= \\varepsilon_s + \\alpha_j g_j \\beta_j \\\\\n",
    "    \\\\\n",
    "    \\mathrm{with} \\quad g_j &= (z - \\varepsilon_j)^{-1}\n",
    "\\end{align*}$$"
   ]
  },
  {
   "cell_type": "markdown",
   "metadata": {},
   "source": [
    "![alt text](ex20-b.png)"
   ]
  },
  {
   "cell_type": "markdown",
   "metadata": {},
   "source": [
    "When doing the recursively defined coupling, we \"*Absorb*\"  more of the coupling ceofficients in each of energy terms of the diagonal. So the diagonal has an additional correction term for each increase in $j$. This is assuming that $g_j$ is well-behaved and does not, at any point, go to $\\pm\\infty$.   \n",
    "Physically this means that the distance between successive cells are longer, and therefore they couple less and less the more the distance is increase. Of course, the \"removed\" cells are just included in each of the left over cells."
   ]
  },
  {
   "cell_type": "markdown",
   "metadata": {},
   "source": [
    "![exercise-20-c](ex20-c.png)"
   ]
  },
  {
   "cell_type": "markdown",
   "metadata": {},
   "source": [
    "First of, we have that\n",
    "$$\n",
    "    (z-\\varepsilon_{sj})G_{00} - \\alpha_j G_{10} = 1\n",
    "$$\n",
    "If we have that $\\alpha_j\\to 0$ for $j\\to \\infty$, then this reduces to \n",
    "$$\n",
    "    (z-\\varepsilon_{sj})G_{00} = 1 \\quad \\Rightarrow G_{00} = (z-\\varepsilon_{sj})^{-1}\n",
    "$$  "
   ]
  },
  {
   "cell_type": "markdown",
   "metadata": {},
   "source": [
    "![alt text](ex20-d.png)"
   ]
  },
  {
   "cell_type": "markdown",
   "metadata": {},
   "source": [
    "Say we have increased $j \\to k \\gg 1$, then the distance to the next cell is very high, and we therefore denote this as the bulk, and then\n",
    "$$\n",
    "\\begin{pmatrix}\n",
    "    (z-\\varepsilon_s)   & 0                 & 0                 & \\cdots    & 0 \\\\\n",
    "    0                   & (z-\\varepsilon)   & 0                 & \\cdots    & 0 \\\\\n",
    "    0                   & 0                 & (z-\\varepsilon)   & \\cdots    & 0 \\\\\n",
    "    \\vdots              & \\vdots            & \\vdots            & \\ddots    & \\vdots \\\\\n",
    "    0                   & 0                 & 0                 & \\cdots         & (z-\\varepsilon)\n",
    "\\end{pmatrix}\n",
    "\\begin{pmatrix}\n",
    "    \\vdots  & \\vdots    & \\vdots    &  & \\\\\n",
    "    G_{0}   & G_1       & G_2       & \\cdots & \\\\\n",
    "    \\vdots  & \\vdots    & \\vdots    &  &\n",
    "\\end{pmatrix}\n",
    "=\n",
    "\\begin{pmatrix}\n",
    "    1       & 0         & 0         & \\cdots    & 0     \\\\\n",
    "    0       & 1         & 0         & \\cdots    & 0     \\\\\n",
    "    0       & 0         & 1         & \\cdots    & 0     \\\\\n",
    "    \\vdots  & \\vdots    & \\vdots    & \\ddots    & \\vdots\\\\\n",
    "    0       & 0         & 0         & \\cdots    & 1\n",
    "\\end{pmatrix}\n",
    "$$\n"
   ]
  },
  {
   "cell_type": "markdown",
   "metadata": {},
   "source": [
    "From this we see that we expect the bulk $G_{nn}$ to have an equation similar to that of the $G_{00}$ from before:\n",
    "\n",
    "$$\n",
    "    (z-\\varepsilon)G_{nn} = 1 \\quad \\Rightarrow G_{nn} = g^{-1}\n",
    "$$"
   ]
  },
  {
   "cell_type": "markdown",
   "metadata": {},
   "source": [
    "![alt text](ex20-e.png)"
   ]
  },
  {
   "cell_type": "markdown",
   "metadata": {},
   "source": [
    "First, invert the matrix $(zI - H)$, and then get the first element\n",
    "\n",
    "$$\n",
    "% \\begin{align*}\n",
    "\\left(\n",
    "    \\begin{array}{c|ccc}\n",
    "        G_{00} & G_{01} & G_{02}            & \\cdots \\\\ \\hline\n",
    "        G_{10} &        &                   & \\\\\n",
    "        G_{20} &        &   G_\\mathrm{bulk} & \\\\\n",
    "        \\vdots &        &                   &   \n",
    "    \\end{array}\n",
    "\\right)\n",
    "$$"
   ]
  },
  {
   "cell_type": "markdown",
   "metadata": {},
   "source": [
    "Then we know that\n",
    "$$\n",
    "    G_{00} = (zI - \\varepsilon_s)^{-1} = (zI - h_s)\n",
    "$$\n",
    "\n",
    "If we haven't iterated enough, we can use the result of exercise 19.b)"
   ]
  },
  {
   "cell_type": "markdown",
   "metadata": {},
   "source": [
    "![](ex20-f.png)"
   ]
  },
  {
   "cell_type": "markdown",
   "metadata": {},
   "source": [
    "When the recursion has converged, The 0'th site only has a self-energy correction for the hopping to the right side, as the 0'th site is the left-most cell.  \n",
    "Similar, the self-energy correction for the bulk site(s) is equal to the hopping of electrons to the left and right."
   ]
  },
  {
   "cell_type": "markdown",
   "metadata": {},
   "source": []
  }
 ],
 "metadata": {
  "kernelspec": {
   "display_name": "10325",
   "language": "python",
   "name": "python3"
  },
  "language_info": {
   "name": "python",
   "version": "3.11.11"
  }
 },
 "nbformat": 4,
 "nbformat_minor": 2
}
