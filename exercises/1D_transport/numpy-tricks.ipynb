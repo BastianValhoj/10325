{
 "cells": [
  {
   "cell_type": "markdown",
   "metadata": {},
   "source": [
    "# A few basic Numpy / array tricks\n",
    "\n",
    "To use numpy arrays efficiently, you must understand two things in particular that can be a bit tricky. They are \"advanced indexing\" and \"broadcasting.\n",
    "\n",
    "The official documentation can be found here:\n",
    "* [Broadcasting](https://docs.scipy.org/doc/numpy/reference/ufuncs.html#ufuncs-broadcasting)\n",
    "* [Indexing](https://docs.scipy.org/doc/numpy/reference/arrays.indexing.html)\n",
    "\n",
    "You may find that the documentation is very specific on all the little details, but not so great at explaining how you might use it in practice (eg examples). This notebook contains a few examples to help you on your way."
   ]
  },
  {
   "cell_type": "code",
   "execution_count": 1,
   "metadata": {},
   "outputs": [],
   "source": [
    "import numpy as np"
   ]
  },
  {
   "cell_type": "markdown",
   "metadata": {},
   "source": [
    "## Broadcasting\n",
    "Broadcasting in numpy means that arrays of different shapes can still be added, subtracted etc. to each other. How do you subtract two arrays of different shapes? That sounds like some nonsense! Well, with some new interpretation, it is in fact hugely advantageous. In eg. `A-B` where `A` and `B` are two arrays with the same number of dimensions (ndim), then if eg. `A` is of shape `(1, 10)` and `B` is of shape `(10,1)`, then `A-B` will have shape `(10, 10)`. Each of the inputs are assumed to be *repeated* along the axis where they are only are of size 1, if the other operand is larger than 1.\n",
    "\n",
    "Let's take an example: You want to calculate all the distances between atom locations. You have an `xyz` array with shape `(natoms, 3)`. What you want in the end is a matrix of shape `(natoms, natoms)` containing the distances. But you can't exactly just subtract `xyz` from itself, right? Then you'd just end up with zeros. What we do instead is that we *add a dimension* to `xyz` in two different ways: We create a version with shape `(1, natoms, 3)` and another version with shape `(natoms, 1, 3)`. Now these two arrays are still not of the same shape, but using the broadcasting rules, the subtraction of the two will have shape `(natoms, natoms, 3)`. In that difference, lets call it `d`, `d[i, j, :]` will be the 3-vector between atoms `i` and `j`. Lets see:"
   ]
  },
  {
   "cell_type": "code",
   "execution_count": 12,
   "metadata": {},
   "outputs": [
    {
     "name": "stdout",
     "output_type": "stream",
     "text": [
      "(8, 3)\n"
     ]
    }
   ],
   "source": [
    "# A = np.arange(10).reshape(1,10)\n",
    "# B = np.arange(10).reshape(10,1)\n",
    "# print(A-B)\n",
    "# The start coordinates of our \"atoms\". In this example just the corners of a cube.\n",
    "xyz = np.array([\n",
    "    [0, 0, 0],\n",
    "    [1, 0, 0],\n",
    "    [0, 1, 0],\n",
    "    [0, 0, 1],\n",
    "    [1, 1, 0],\n",
    "    [0, 1, 1],\n",
    "    [1, 0, 1],\n",
    "    [1, 1, 1]\n",
    "])\n",
    "print(xyz.shape)"
   ]
  },
  {
   "cell_type": "code",
   "execution_count": 13,
   "metadata": {},
   "outputs": [
    {
     "name": "stdout",
     "output_type": "stream",
     "text": [
      "(8, 8, 3)\n"
     ]
    }
   ],
   "source": [
    "# Now perform a subtraction\n",
    "d = xyz[np.newaxis, :, :] - xyz[:, np.newaxis, :]\n",
    "print(d.shape)"
   ]
  },
  {
   "cell_type": "code",
   "execution_count": 14,
   "metadata": {},
   "outputs": [
    {
     "name": "stdout",
     "output_type": "stream",
     "text": [
      "[[0.    1.    1.    1.    1.414 1.414 1.414 1.732]\n",
      " [1.    0.    1.414 1.414 1.    1.732 1.    1.414]\n",
      " [1.    1.414 0.    1.414 1.    1.    1.732 1.414]\n",
      " [1.    1.414 1.414 0.    1.732 1.    1.    1.414]\n",
      " [1.414 1.    1.    1.732 0.    1.414 1.414 1.   ]\n",
      " [1.414 1.732 1.    1.    1.414 0.    1.414 1.   ]\n",
      " [1.414 1.    1.732 1.    1.414 1.414 0.    1.   ]\n",
      " [1.732 1.414 1.414 1.414 1.    1.    1.    0.   ]]\n"
     ]
    }
   ],
   "source": [
    "# Now we take the norm over the cartesian coordinates on axis 2:\n",
    "distances = np.linalg.norm(d, axis=2)\n",
    "with np.printoptions(precision=3):\n",
    "    print(distances)"
   ]
  },
  {
   "cell_type": "markdown",
   "metadata": {},
   "source": [
    "### Visualize a matrix"
   ]
  },
  {
   "cell_type": "code",
   "execution_count": 15,
   "metadata": {},
   "outputs": [],
   "source": [
    "import matplotlib.pyplot as plt"
   ]
  },
  {
   "cell_type": "code",
   "execution_count": 16,
   "metadata": {},
   "outputs": [
    {
     "data": {
      "text/plain": [
       "<matplotlib.colorbar.Colorbar at 0x2f68ebc7cb0>"
      ]
     },
     "execution_count": 16,
     "metadata": {},
     "output_type": "execute_result"
    },
    {
     "data": {
      "image/png": "[encoded data removed]",
      "text/plain": [
       "<Figure size 640x480 with 2 Axes>"
      ]
     },
     "metadata": {},
     "output_type": "display_data"
    }
   ],
   "source": [
    "# Plot heatmap\n",
    "plt.imshow(distances, cmap='viridis', aspect='auto')\n",
    "plt.colorbar(label='Value')"
   ]
  },
  {
   "cell_type": "markdown",
   "metadata": {},
   "source": [
    "## Indexing\n",
    "\n",
    "### Regular indexing\n",
    "You can of course use the \"regular\" python indexing with slices for numpy arrays. But there are other ways as well, as you can see below. As an example, we will use the case where you want to create a 'larger' hamiltonian from blocks of smaller matrices. (note that our particular example could be done via a numpy function `blocks` for the purpose instead, but for now we do it with indexing.)"
   ]
  },
  {
   "cell_type": "code",
   "execution_count": 17,
   "metadata": {},
   "outputs": [
    {
     "name": "stdout",
     "output_type": "stream",
     "text": [
      "A= [[0 1]\n",
      " [2 3]]\n",
      "B= [[4 5]\n",
      " [6 7]]\n",
      "V= [[0 1]\n",
      " [1 0]]\n",
      "H0= [[0. 0. 0. 0.]\n",
      " [0. 0. 0. 0.]\n",
      " [0. 0. 0. 0.]\n",
      " [0. 0. 0. 0.]]\n"
     ]
    }
   ],
   "source": [
    "# Example arrays first\n",
    "def get_example_matrices():\n",
    "    A, B = np.arange(int(2**3)).reshape(2, 2, 2)\n",
    "    V = np.array([[0, 1], [1, 0]])\n",
    "    H0 = np.zeros((4, 4))\n",
    "    return A, B, V, H0\n",
    "\n",
    "A, B, V, H0 = get_example_matrices()\n",
    "print(\"A=\",A)\n",
    "print(\"B=\",B)\n",
    "print(\"V=\",V)\n",
    "print(\"H0=\",H0)"
   ]
  },
  {
   "cell_type": "code",
   "execution_count": 18,
   "metadata": {},
   "outputs": [
    {
     "name": "stdout",
     "output_type": "stream",
     "text": [
      "[[0. 1. 0. 1.]\n",
      " [2. 3. 1. 0.]\n",
      " [0. 1. 4. 5.]\n",
      " [1. 0. 6. 7.]]\n"
     ]
    }
   ],
   "source": [
    "# First, put A and B into H0 with slices:\n",
    "A, B, V, H0 = get_example_matrices()\n",
    "H0[0:2, 0:2] = A\n",
    "H0[2:4, 2:4] = B\n",
    "H0[0:2, 2:4] = V\n",
    "H0[2:4, 0:2] = V.T\n",
    "print(H0)"
   ]
  },
  {
   "cell_type": "code",
   "execution_count": 21,
   "metadata": {},
   "outputs": [
    {
     "name": "stdout",
     "output_type": "stream",
     "text": [
      "[[0. 1. 0. 1.]\n",
      " [2. 3. 1. 0.]\n",
      " [0. 1. 4. 5.]\n",
      " [1. 0. 6. 7.]]\n"
     ]
    }
   ],
   "source": [
    "# You can also use some fancier indexing. Say you have defined two regions of indices:\n",
    "reg0 = np.array([0, 1])  # say region 0 is atoms 0 and 1\n",
    "reg1 = np.array([2, 3])  # and region 1 is atoms 2 and 3\n",
    "# Now the trick is, we want to use broadcasting. So these regions need an extra dimension:\n",
    "reg0 = reg0[:, None]  # Using None is the same as using `newaxis`\n",
    "reg1 = reg1[:, None]\n",
    "# Then we can put together the hamiltonian like before:\n",
    "A, B, V, H0 = get_example_matrices()\n",
    "H0[reg0, reg0.T] = A\n",
    "H0[reg1, reg1.T] = B\n",
    "H0[reg0, reg1.T] = V\n",
    "H0[reg1, reg0.T] = V.T\n",
    "print(H0)"
   ]
  },
  {
   "cell_type": "markdown",
   "metadata": {},
   "source": [
    "In the second of the two examples above, you could have used the same slice objects as in the first example instead of arrays to define your regions. The advantage to using arrays is that the ***indices don't have to be regularly spaced***.\n",
    "\n",
    "The assigment of values to H0 could also have been done using a nested for-loop. This way is shown below, is the slowest and most manual way of doing it, but it may be easier to include some more involved conditions for when to put what values into H0:"
   ]
  },
  {
   "cell_type": "code",
   "execution_count": 22,
   "metadata": {},
   "outputs": [
    {
     "name": "stdout",
     "output_type": "stream",
     "text": [
      "[[0. 1. 0. 1.]\n",
      " [2. 3. 1. 0.]\n",
      " [0. 1. 4. 5.]\n",
      " [1. 0. 6. 7.]]\n"
     ]
    }
   ],
   "source": [
    "A, B, V, H0_2 = get_example_matrices()\n",
    "for i in range(2):\n",
    "    for j in range(2):\n",
    "        H0_2[i,j]      = A[i,j]\n",
    "        H0_2[i+2, j+2] = B[i,j]\n",
    "        H0_2[i  , j+2] = V[i,j]\n",
    "        H0_2[i+2, j  ] = V.T[i,j]\n",
    "print(H0_2)"
   ]
  },
  {
   "cell_type": "markdown",
   "metadata": {},
   "source": [
    "### Comparing arrays\n",
    "There are different options for comparing arrays in python and in numpy. We will use the \"assert\" command, if what comes after it evaluates to False.   "
   ]
  },
  {
   "cell_type": "markdown",
   "metadata": {},
   "source": [
    "#### Identity\n",
    "Here we check if the array elements are exactly equal. Note that if this is actually a very strict requirement and two matrices that are equal on paper will not be strictly equal if you calculate them in different ways or with different functions in python. This is because of floating point precision of the computer"
   ]
  },
  {
   "cell_type": "code",
   "execution_count": 23,
   "metadata": {},
   "outputs": [
    {
     "name": "stdout",
     "output_type": "stream",
     "text": [
      "[[ True  True  True  True]\n",
      " [ True  True  True  True]\n",
      " [ True  True  True  True]\n",
      " [ True  True  True  True]]\n"
     ]
    }
   ],
   "source": [
    "assert (H0 == H0_2).all()    # assert that all elements are equal\n",
    "\n",
    "print(H0 == H0_2)            # Inspect which elements are equal"
   ]
  },
  {
   "cell_type": "markdown",
   "metadata": {},
   "source": [
    "#### \"Close\"\n",
    "What we most often care about is if numpy arrays are almost equal, which we can check using the \"allclose\" from numpy. "
   ]
  },
  {
   "cell_type": "code",
   "execution_count": 27,
   "metadata": {},
   "outputs": [
    {
     "name": "stdout",
     "output_type": "stream",
     "text": [
      "[[ True False  True False]\n",
      " [False False False  True]\n",
      " [ True False False False]\n",
      " [False  True False False]]\n"
     ]
    }
   ],
   "source": [
    "assert np.allclose(H0, 0.99999*H0_2)\n",
    "print(np.isclose(H0, 0.999*H0_2))"
   ]
  },
  {
   "cell_type": "markdown",
   "metadata": {},
   "source": [
    "#### Other tests\n",
    "You can of course also see if something is greater than or lesser than"
   ]
  },
  {
   "cell_type": "code",
   "execution_count": 31,
   "metadata": {},
   "outputs": [
    {
     "name": "stdout",
     "output_type": "stream",
     "text": [
      "[[False False False False]\n",
      " [False  True False False]\n",
      " [False False  True  True]\n",
      " [False False  True  True]]\n",
      "[[ True  True  True  True]\n",
      " [ True False  True  True]\n",
      " [ True  True False False]\n",
      " [ True  True False False]]\n",
      "There are 11 values less than 2\n"
     ]
    }
   ],
   "source": [
    "print(H0>2)\n",
    "print(H0<3)\n",
    "val = 2\n",
    "print('There are', np.sum(H0<3), 'values less than', val)"
   ]
  },
  {
   "cell_type": "markdown",
   "metadata": {},
   "source": [
    "## Linear algebra operations\n",
    "Here we will take a look at some of the most common linear algebra operations. We will cover matrix inversion, matrix multiplication, elementwise multiplication, and utilising broadcasting for speed. ***Note: It is always the last two indices that behave as matrix indices.***"
   ]
  },
  {
   "cell_type": "code",
   "execution_count": 37,
   "metadata": {},
   "outputs": [],
   "source": [
    "# Shorthands\n",
    "Inv = np.linalg.inv\n",
    "Tr  = np.trace\n",
    "MM  = np.matmul      # Short\n",
    "# Test arrays\n",
    "# The first two indices (with lengths n1 and n2) are vectorised over in what we will be doing\n",
    "# The last two indices will be behaving as the matrices regular linear algebra\n",
    "n1 = 12\n",
    "n2 = 15\n",
    "A = np.random.random((n1,n2,10,10))\n",
    "B = np.random.random((n1,n2,20,10))\n",
    "C = np.random.random((n1,n2,10,20))\n",
    "D = np.random.random((n1,n2,20,20))\n"
   ]
  },
  {
   "cell_type": "markdown",
   "metadata": {},
   "source": [
    "#### Generic operations"
   ]
  },
  {
   "cell_type": "code",
   "execution_count": 38,
   "metadata": {},
   "outputs": [
    {
     "data": {
      "text/plain": [
       "array([[[[7.90831219e-01, 2.82886050e-01, 3.72297507e-01, ...,\n",
       "          5.11288426e-01, 5.78324507e-01, 3.09179896e-01],\n",
       "         [9.79222245e-01, 5.54464059e-02, 2.55215328e-01, ...,\n",
       "          9.90138106e-01, 6.17457486e-01, 5.75128350e-01],\n",
       "         [6.49719127e-01, 7.74067163e-01, 2.64261916e-01, ...,\n",
       "          1.65523200e-01, 8.32271325e-01, 8.35741576e-01],\n",
       "         ...,\n",
       "         [4.66109016e-01, 2.62538893e-01, 9.32405946e-01, ...,\n",
       "          7.06283041e-01, 1.90921433e-01, 3.40446202e-02],\n",
       "         [6.24964670e-01, 1.61018616e-01, 6.94594401e-01, ...,\n",
       "          5.79502572e-01, 4.29353880e-01, 5.97596425e-01],\n",
       "         [7.04640217e-02, 3.68974095e-01, 8.81105207e-01, ...,\n",
       "          1.68551467e-01, 9.13468214e-01, 7.63284936e-01]],\n",
       "\n",
       "        [[6.34368723e-01, 1.60974693e-01, 6.50255706e-01, ...,\n",
       "          1.40141846e-01, 2.84045886e-03, 7.11846947e-01],\n",
       "         [5.21881073e-01, 5.24590836e-01, 7.44535538e-01, ...,\n",
       "          8.06465527e-01, 9.32047623e-01, 6.72219579e-01],\n",
       "         [4.44969526e-01, 3.99769797e-01, 6.61816703e-01, ...,\n",
       "          6.08003174e-01, 4.05827169e-01, 6.66536855e-01],\n",
       "         ...,\n",
       "         [3.68248938e-01, 5.76053975e-01, 3.82918000e-01, ...,\n",
       "          6.24709117e-01, 1.22696434e-01, 7.33722399e-01],\n",
       "         [8.70340653e-02, 6.96756566e-01, 2.65724231e-01, ...,\n",
       "          9.88057728e-01, 7.33352919e-01, 4.23005891e-01],\n",
       "         [9.51287255e-01, 3.02380599e-01, 9.22069251e-02, ...,\n",
       "          3.29865288e-01, 3.89092957e-02, 9.43020872e-01]],\n",
       "\n",
       "        [[4.75617818e-01, 7.39917078e-01, 5.77344449e-01, ...,\n",
       "          6.48463437e-01, 8.00648410e-01, 3.31992421e-01],\n",
       "         [1.59585363e-01, 3.55057711e-01, 8.13946163e-01, ...,\n",
       "          8.28310491e-01, 4.45567118e-01, 6.93162618e-01],\n",
       "         [6.73954806e-01, 2.77093637e-01, 5.80936524e-01, ...,\n",
       "          8.47138772e-01, 8.80063705e-01, 3.82321929e-01],\n",
       "         ...,\n",
       "         [4.28550693e-02, 6.56629600e-02, 2.78127944e-01, ...,\n",
       "          2.66012646e-01, 7.87368206e-01, 3.19133709e-01],\n",
       "         [7.72721892e-01, 6.72167799e-01, 2.76940340e-01, ...,\n",
       "          2.58678782e-01, 5.93688461e-01, 4.00094522e-01],\n",
       "         [9.28009361e-01, 3.92966931e-01, 3.15893268e-01, ...,\n",
       "          3.99385516e-02, 8.47686187e-02, 3.12884603e-01]],\n",
       "\n",
       "        ...,\n",
       "\n",
       "        [[8.40289310e-01, 7.27098839e-01, 9.76965112e-01, ...,\n",
       "          6.98048305e-01, 2.97165483e-01, 8.02114270e-01],\n",
       "         [4.57538546e-01, 4.27121531e-01, 7.57290044e-01, ...,\n",
       "          6.60931592e-01, 1.00031626e-02, 1.97694718e-01],\n",
       "         [3.41915393e-02, 5.99098105e-01, 5.23489214e-01, ...,\n",
       "          3.55091662e-01, 6.00236431e-01, 6.92372329e-01],\n",
       "         ...,\n",
       "         [9.89720369e-01, 6.41395768e-01, 4.92543127e-01, ...,\n",
       "          5.41969401e-02, 6.73905177e-01, 4.11900979e-01],\n",
       "         [5.16827113e-01, 9.22646810e-01, 8.41615190e-01, ...,\n",
       "          6.51953627e-01, 4.93853001e-01, 7.73081948e-01],\n",
       "         [9.18445771e-01, 4.45732279e-01, 2.04933840e-02, ...,\n",
       "          6.19484056e-01, 4.71434788e-01, 7.05565277e-01]],\n",
       "\n",
       "        [[8.90654028e-01, 2.95600963e-01, 6.07258238e-02, ...,\n",
       "          5.48865609e-01, 3.26323396e-01, 6.95837518e-01],\n",
       "         [1.03665802e-01, 2.81281161e-01, 4.70283639e-01, ...,\n",
       "          3.74379924e-01, 5.62183309e-01, 5.83247832e-01],\n",
       "         [7.83050540e-01, 2.83020827e-01, 4.19291050e-01, ...,\n",
       "          7.30442916e-02, 7.00411807e-01, 4.04813931e-01],\n",
       "         ...,\n",
       "         [6.47558418e-01, 8.49587816e-01, 5.39347599e-01, ...,\n",
       "          2.88787935e-01, 8.46006367e-01, 8.61918373e-01],\n",
       "         [6.52377249e-01, 9.09748484e-01, 2.78774217e-01, ...,\n",
       "          1.08005269e-01, 6.35974772e-02, 4.67961021e-01],\n",
       "         [3.11039917e-03, 6.24714986e-02, 7.30979046e-01, ...,\n",
       "          3.72197976e-01, 6.84470291e-01, 9.86308697e-01]],\n",
       "\n",
       "        [[8.44986490e-01, 2.43549642e-01, 3.69613923e-01, ...,\n",
       "          1.11585645e-01, 2.41801068e-02, 9.05051168e-01],\n",
       "         [2.37547460e-01, 7.22777356e-01, 6.38327514e-01, ...,\n",
       "          9.88103595e-02, 1.73554748e-01, 7.09692870e-01],\n",
       "         [8.90633052e-01, 6.84242931e-01, 8.21273708e-01, ...,\n",
       "          3.69198647e-01, 8.76630158e-01, 1.22838632e-01],\n",
       "         ...,\n",
       "         [3.66946453e-02, 9.73574205e-01, 2.34808114e-01, ...,\n",
       "          9.46769970e-01, 2.00748704e-01, 9.03636065e-01],\n",
       "         [9.60543182e-01, 8.16672754e-02, 7.62245138e-01, ...,\n",
       "          6.39343643e-01, 6.17931056e-01, 5.88516178e-01],\n",
       "         [2.78658838e-01, 5.19559801e-01, 2.17539344e-02, ...,\n",
       "          9.49173767e-01, 4.08374685e-02, 2.21755297e-01]]],\n",
       "\n",
       "\n",
       "       [[[6.62561756e-01, 6.12333177e-01, 5.70555244e-02, ...,\n",
       "          4.62501657e-01, 7.88243276e-01, 4.05099593e-03],\n",
       "         [6.80898368e-01, 4.71364026e-01, 6.75852211e-01, ...,\n",
       "          3.49343900e-01, 3.92722512e-01, 3.33202236e-01],\n",
       "         [7.88221752e-01, 6.65366173e-01, 9.47014041e-01, ...,\n",
       "          7.21535584e-01, 2.40440691e-01, 8.85513115e-01],\n",
       "         ...,\n",
       "         [4.13266973e-01, 4.69411807e-01, 5.85961172e-01, ...,\n",
       "          6.98191873e-01, 3.37640906e-01, 6.80958314e-01],\n",
       "         [8.02617084e-01, 5.92690645e-01, 1.23905005e-01, ...,\n",
       "          4.75649971e-01, 2.21463354e-01, 6.88950136e-01],\n",
       "         [5.86019670e-01, 8.36187699e-01, 9.68949876e-02, ...,\n",
       "          1.96632584e-01, 9.40243994e-01, 5.12833984e-01]],\n",
       "\n",
       "        [[9.54649412e-01, 5.56146654e-02, 8.22293227e-01, ...,\n",
       "          6.24237017e-01, 9.54044877e-01, 1.13627140e-01],\n",
       "         [6.77626178e-01, 7.81678911e-01, 2.82251495e-01, ...,\n",
       "          4.47802609e-01, 8.78733824e-01, 6.67949210e-03],\n",
       "         [3.00692239e-01, 2.04433031e-02, 8.17254063e-01, ...,\n",
       "          4.02109230e-02, 4.58478812e-01, 4.11772662e-01],\n",
       "         ...,\n",
       "         [9.55885839e-01, 7.44641586e-02, 4.68082555e-01, ...,\n",
       "          8.85742098e-01, 9.80236387e-02, 6.36049437e-01],\n",
       "         [8.00054078e-01, 9.41441993e-01, 6.03374529e-01, ...,\n",
       "          3.66896517e-03, 8.16427108e-01, 1.18346341e-01],\n",
       "         [7.53278446e-01, 3.36033352e-01, 2.68139594e-01, ...,\n",
       "          7.59100972e-01, 3.71661377e-01, 7.16127511e-01]],\n",
       "\n",
       "        [[1.40218959e-01, 5.30942913e-01, 2.16286960e-01, ...,\n",
       "          2.64049908e-01, 5.93601018e-01, 6.52584950e-01],\n",
       "         [4.44377688e-01, 7.35854027e-01, 1.50863788e-01, ...,\n",
       "          7.94964505e-01, 1.37733615e-01, 5.27354695e-01],\n",
       "         [3.14979297e-01, 2.02752157e-01, 2.92741430e-01, ...,\n",
       "          4.40672835e-01, 5.89491120e-01, 2.94580227e-01],\n",
       "         ...,\n",
       "         [3.55308268e-01, 5.57576379e-01, 1.40025424e-01, ...,\n",
       "          6.59315032e-01, 8.34951451e-01, 8.22856146e-01],\n",
       "         [8.38520814e-01, 8.28233947e-01, 7.87760938e-01, ...,\n",
       "          4.54074972e-01, 4.98849608e-01, 8.36201686e-02],\n",
       "         [8.95677657e-01, 7.78666038e-01, 6.62777833e-01, ...,\n",
       "          8.51257951e-01, 6.20536310e-01, 7.44619914e-01]],\n",
       "\n",
       "        ...,\n",
       "\n",
       "        [[7.95594605e-01, 8.72985334e-02, 9.08859774e-01, ...,\n",
       "          7.62733720e-01, 2.95963383e-01, 3.35027062e-01],\n",
       "         [9.30909188e-01, 9.54029497e-01, 2.28470147e-01, ...,\n",
       "          1.71789331e-01, 4.56797786e-01, 9.19564481e-01],\n",
       "         [3.26210558e-01, 4.21403317e-01, 3.77438936e-01, ...,\n",
       "          7.69000094e-01, 3.54032601e-01, 9.94352371e-01],\n",
       "         ...,\n",
       "         [1.13521578e-01, 6.57633691e-01, 2.75803578e-01, ...,\n",
       "          3.08208414e-01, 9.88493639e-01, 7.52334437e-01],\n",
       "         [8.54350454e-01, 9.12150112e-01, 3.76240497e-01, ...,\n",
       "          3.58332652e-01, 1.19607524e-01, 3.16074839e-01],\n",
       "         [5.52499029e-01, 1.55520863e-01, 4.05564963e-01, ...,\n",
       "          9.55105074e-01, 7.61665147e-01, 4.84055667e-01]],\n",
       "\n",
       "        [[9.51427848e-01, 4.34101929e-01, 1.59161778e-01, ...,\n",
       "          8.76679079e-01, 4.15360496e-01, 8.09504703e-01],\n",
       "         [5.02676589e-01, 6.08386441e-02, 3.62903198e-01, ...,\n",
       "          8.31590377e-01, 7.71376777e-02, 5.35461424e-01],\n",
       "         [5.51777887e-01, 4.72446614e-01, 9.61260542e-01, ...,\n",
       "          1.41468457e-01, 2.89322423e-01, 8.67561636e-01],\n",
       "         ...,\n",
       "         [2.79154413e-01, 6.43537881e-01, 9.79472316e-01, ...,\n",
       "          7.78250167e-01, 2.65430616e-01, 9.10409441e-01],\n",
       "         [8.34056452e-01, 6.57861738e-02, 1.42327960e-01, ...,\n",
       "          4.82105842e-01, 3.32636451e-01, 4.75683891e-01],\n",
       "         [2.07078076e-01, 6.48238012e-01, 2.61422925e-01, ...,\n",
       "          5.56589257e-01, 8.30922185e-02, 2.32926038e-01]],\n",
       "\n",
       "        [[5.61497136e-01, 2.52602678e-01, 7.96021189e-01, ...,\n",
       "          1.63110909e-01, 9.60951327e-01, 7.13652487e-01],\n",
       "         [6.10530764e-01, 5.88493596e-02, 3.36574655e-01, ...,\n",
       "          3.53587824e-01, 3.40081689e-01, 2.09633791e-01],\n",
       "         [9.82944676e-01, 2.46193473e-01, 6.92815510e-01, ...,\n",
       "          8.42492128e-01, 2.29723906e-01, 6.87020430e-04],\n",
       "         ...,\n",
       "         [4.33356964e-01, 4.94098250e-02, 8.24475425e-01, ...,\n",
       "          2.72737593e-01, 3.67030573e-01, 6.73282611e-02],\n",
       "         [5.51552333e-01, 8.32420184e-01, 8.44322889e-01, ...,\n",
       "          5.66160506e-02, 9.77760771e-01, 4.87570556e-01],\n",
       "         [6.28300560e-01, 3.75053497e-01, 3.60289399e-01, ...,\n",
       "          3.83320092e-01, 3.19316634e-01, 6.57844414e-02]]],\n",
       "\n",
       "\n",
       "       [[[7.18656970e-01, 7.40981837e-01, 2.34027150e-01, ...,\n",
       "          5.92638230e-01, 1.67095048e-01, 3.02154751e-01],\n",
       "         [1.52282539e-01, 7.69274971e-01, 3.40237868e-01, ...,\n",
       "          1.54385609e-01, 7.76212824e-02, 2.48465961e-01],\n",
       "         [1.72824703e-01, 1.25071997e-01, 5.59302747e-01, ...,\n",
       "          4.21423030e-01, 2.85724398e-02, 3.99768691e-01],\n",
       "         ...,\n",
       "         [1.34796692e-01, 2.23409641e-01, 3.75762665e-01, ...,\n",
       "          5.49260624e-01, 8.81973461e-01, 3.10375455e-01],\n",
       "         [2.13425551e-01, 5.68948142e-01, 3.64162980e-01, ...,\n",
       "          1.70982633e-01, 3.36671248e-01, 9.27777118e-01],\n",
       "         [7.13672121e-01, 1.86210484e-01, 9.12293946e-01, ...,\n",
       "          4.03702383e-01, 1.30192458e-01, 9.58543270e-01]],\n",
       "\n",
       "        [[9.33940853e-01, 8.33923686e-01, 2.22686723e-01, ...,\n",
       "          2.32795027e-01, 6.21585832e-01, 9.35715527e-01],\n",
       "         [5.40090441e-01, 2.78263284e-01, 6.79909058e-01, ...,\n",
       "          7.46218419e-01, 3.08220967e-01, 8.47056967e-01],\n",
       "         [6.54256905e-01, 3.38788404e-01, 7.81531415e-01, ...,\n",
       "          2.48608968e-02, 7.07745259e-01, 8.69798955e-01],\n",
       "         ...,\n",
       "         [9.62373467e-01, 7.08144201e-01, 6.65305169e-01, ...,\n",
       "          5.82155696e-01, 3.94912789e-01, 2.04410232e-01],\n",
       "         [4.86713147e-01, 9.54972941e-02, 2.93931700e-01, ...,\n",
       "          3.16818754e-02, 5.60384379e-01, 8.68618257e-01],\n",
       "         [7.87611391e-01, 8.44244359e-02, 2.71961861e-01, ...,\n",
       "          1.47914841e-01, 1.59480178e-02, 5.74333889e-01]],\n",
       "\n",
       "        [[3.11604913e-01, 5.19572715e-02, 3.26782940e-01, ...,\n",
       "          8.53350610e-01, 7.12056001e-01, 6.89504013e-01],\n",
       "         [3.15586322e-02, 3.18765814e-01, 1.43941268e-01, ...,\n",
       "          4.70519729e-01, 8.18728160e-02, 9.80689274e-01],\n",
       "         [6.79339640e-01, 1.53704829e-02, 9.14441350e-02, ...,\n",
       "          5.70338953e-01, 3.73659150e-01, 8.90647346e-01],\n",
       "         ...,\n",
       "         [8.32969183e-01, 8.45255779e-01, 4.03803384e-01, ...,\n",
       "          2.67765573e-01, 9.44968329e-01, 2.53151296e-01],\n",
       "         [8.91562217e-01, 2.10586983e-01, 9.32132492e-02, ...,\n",
       "          4.99835184e-01, 6.49564707e-01, 8.61481048e-01],\n",
       "         [8.60621520e-01, 4.32181832e-01, 2.22193904e-01, ...,\n",
       "          7.74655084e-02, 5.61259457e-01, 8.45307771e-01]],\n",
       "\n",
       "        ...,\n",
       "\n",
       "        [[8.19728585e-01, 6.51640031e-01, 8.74243022e-01, ...,\n",
       "          7.11319550e-01, 1.26156764e-01, 6.44541734e-01],\n",
       "         [1.25590868e-01, 3.65960729e-01, 4.91611066e-01, ...,\n",
       "          6.81885159e-01, 7.41388191e-02, 5.10187576e-01],\n",
       "         [1.87339344e-02, 7.78596785e-02, 3.43693329e-01, ...,\n",
       "          5.38224479e-01, 9.78844754e-01, 8.32567735e-01],\n",
       "         ...,\n",
       "         [9.92620815e-01, 9.40568476e-01, 4.34271087e-01, ...,\n",
       "          3.83142748e-01, 8.49478643e-01, 1.20527068e-01],\n",
       "         [9.09225054e-01, 3.97753466e-01, 3.55716063e-01, ...,\n",
       "          7.26169761e-01, 3.02148596e-01, 5.34306128e-01],\n",
       "         [5.33655898e-01, 3.68109653e-02, 7.52446840e-01, ...,\n",
       "          7.83041653e-01, 2.37684412e-01, 9.66828972e-01]],\n",
       "\n",
       "        [[1.38272457e-01, 5.36673524e-01, 4.92709778e-01, ...,\n",
       "          5.75650703e-02, 4.79077182e-01, 1.78086573e-01],\n",
       "         [1.88755008e-01, 5.70897965e-02, 9.27227792e-01, ...,\n",
       "          4.00333758e-01, 5.74167027e-01, 2.04985384e-01],\n",
       "         [9.68941811e-01, 3.76850618e-02, 6.39051567e-01, ...,\n",
       "          8.96371083e-01, 2.02205502e-01, 7.52556315e-01],\n",
       "         ...,\n",
       "         [3.81245354e-01, 4.82636526e-01, 7.28645100e-01, ...,\n",
       "          1.54098719e-01, 2.31449760e-01, 3.67092861e-02],\n",
       "         [7.16899765e-02, 7.70682798e-01, 4.69489449e-01, ...,\n",
       "          5.84601690e-03, 5.18685301e-01, 1.74049324e-01],\n",
       "         [1.62466981e-01, 5.39740854e-01, 9.57072130e-02, ...,\n",
       "          5.62074255e-01, 9.43946421e-01, 3.30309543e-01]],\n",
       "\n",
       "        [[5.38754361e-01, 9.81427806e-01, 6.35402474e-01, ...,\n",
       "          9.08587174e-01, 5.42737452e-01, 4.62379722e-01],\n",
       "         [7.38229624e-01, 3.71042415e-01, 6.71224328e-01, ...,\n",
       "          7.38180725e-01, 7.73772150e-01, 6.36654311e-02],\n",
       "         [9.34678057e-01, 3.21474171e-01, 9.72181563e-01, ...,\n",
       "          7.24445562e-01, 8.21634042e-01, 5.50840883e-02],\n",
       "         ...,\n",
       "         [3.27734468e-01, 5.57652615e-01, 7.83310239e-01, ...,\n",
       "          6.21250546e-01, 6.26125757e-01, 5.28813133e-01],\n",
       "         [4.39635102e-01, 1.11931974e-01, 1.64211386e-02, ...,\n",
       "          5.27831795e-01, 2.18123360e-01, 4.11836359e-02],\n",
       "         [4.19849423e-01, 8.57388158e-01, 5.49694922e-01, ...,\n",
       "          5.33837946e-01, 4.54883774e-01, 2.95483943e-01]]],\n",
       "\n",
       "\n",
       "       ...,\n",
       "\n",
       "\n",
       "       [[[4.70430545e-01, 3.70476146e-01, 6.60032171e-01, ...,\n",
       "          3.33010126e-01, 5.99006232e-01, 7.48652570e-01],\n",
       "         [6.68899900e-01, 1.80499839e-01, 1.54583280e-01, ...,\n",
       "          4.21632431e-01, 6.01409665e-02, 2.16608010e-01],\n",
       "         [5.72882873e-01, 3.58567281e-01, 1.25567014e-01, ...,\n",
       "          3.85491948e-01, 8.46103353e-01, 4.18768034e-01],\n",
       "         ...,\n",
       "         [3.42636482e-01, 1.09637474e-01, 7.62729276e-01, ...,\n",
       "          3.40698330e-01, 6.19182220e-02, 1.42492219e-01],\n",
       "         [5.47704852e-01, 2.97661086e-02, 5.27655698e-01, ...,\n",
       "          9.91989103e-01, 7.38826589e-01, 3.48355523e-01],\n",
       "         [7.49044140e-01, 8.54045920e-01, 7.83860714e-01, ...,\n",
       "          8.95073897e-01, 4.93001137e-01, 6.85879953e-01]],\n",
       "\n",
       "        [[1.92667612e-02, 3.43368843e-01, 3.90567376e-01, ...,\n",
       "          1.02241042e-01, 3.23813997e-01, 2.59536575e-01],\n",
       "         [9.45264022e-01, 2.65841896e-01, 5.92886806e-01, ...,\n",
       "          5.70532627e-01, 2.19560461e-01, 9.15954764e-02],\n",
       "         [3.77639539e-01, 9.75064582e-01, 3.60050257e-02, ...,\n",
       "          6.25226998e-01, 1.40473563e-01, 9.61557017e-01],\n",
       "         ...,\n",
       "         [8.42717894e-01, 9.04847037e-01, 9.13649163e-01, ...,\n",
       "          2.58592438e-01, 7.44747621e-01, 8.11127062e-01],\n",
       "         [9.17697399e-01, 9.74211362e-02, 6.42946963e-01, ...,\n",
       "          7.85511097e-01, 2.89047408e-01, 6.61817276e-01],\n",
       "         [6.96993022e-01, 1.92366108e-01, 5.39363627e-01, ...,\n",
       "          3.88891365e-01, 2.16002889e-01, 6.41517230e-01]],\n",
       "\n",
       "        [[3.93406918e-01, 2.15348890e-01, 8.44792343e-02, ...,\n",
       "          4.20240261e-01, 1.89225166e-01, 2.32549475e-01],\n",
       "         [2.82451674e-02, 9.05406673e-01, 7.98685744e-02, ...,\n",
       "          6.40947521e-02, 2.63136764e-01, 3.67428456e-02],\n",
       "         [1.99255110e-01, 2.08902950e-01, 7.08585239e-01, ...,\n",
       "          6.86792795e-01, 6.22313352e-01, 9.97761025e-01],\n",
       "         ...,\n",
       "         [5.12299956e-01, 2.74110502e-01, 8.80342131e-01, ...,\n",
       "          6.42566018e-01, 4.37593761e-01, 6.32874228e-01],\n",
       "         [6.77993795e-01, 5.35815718e-01, 5.01647411e-01, ...,\n",
       "          3.13081006e-01, 4.53101803e-01, 2.68272544e-02],\n",
       "         [9.84204911e-01, 9.16386626e-01, 3.54001951e-02, ...,\n",
       "          9.82178100e-01, 3.52996832e-01, 6.08920376e-01]],\n",
       "\n",
       "        ...,\n",
       "\n",
       "        [[5.91017615e-01, 1.30433216e-01, 3.68760031e-01, ...,\n",
       "          7.79655093e-01, 6.11610625e-01, 8.94878395e-01],\n",
       "         [6.44971347e-01, 5.43112916e-01, 4.30438152e-01, ...,\n",
       "          6.83404486e-01, 7.14217577e-01, 8.51036061e-02],\n",
       "         [6.08646246e-01, 8.78600289e-01, 2.28743919e-01, ...,\n",
       "          3.87757654e-01, 5.47690416e-01, 2.73118262e-01],\n",
       "         ...,\n",
       "         [4.65339614e-01, 3.95116480e-01, 1.67878582e-01, ...,\n",
       "          2.79851399e-01, 8.85035336e-01, 4.91586931e-01],\n",
       "         [3.24921503e-01, 3.27935067e-01, 4.17833084e-01, ...,\n",
       "          8.57061288e-01, 2.06207949e-01, 1.53409430e-01],\n",
       "         [3.58478064e-01, 1.27449997e-01, 6.65329819e-01, ...,\n",
       "          8.28633223e-01, 5.64832874e-01, 7.31035533e-01]],\n",
       "\n",
       "        [[7.69478749e-01, 8.53317240e-01, 3.68423736e-01, ...,\n",
       "          4.15112351e-01, 3.97482637e-01, 7.95638288e-01],\n",
       "         [3.19477545e-01, 1.67970772e-01, 3.42522010e-01, ...,\n",
       "          8.73194131e-01, 6.74391349e-01, 1.03445591e-01],\n",
       "         [4.61378153e-01, 3.41154634e-01, 6.76089269e-01, ...,\n",
       "          7.98560490e-01, 5.24020083e-01, 5.37426410e-01],\n",
       "         ...,\n",
       "         [3.80269592e-01, 4.32494440e-01, 6.37951545e-01, ...,\n",
       "          3.43619538e-01, 5.70269477e-02, 4.80770441e-01],\n",
       "         [7.15507258e-01, 6.14231549e-01, 2.61804645e-01, ...,\n",
       "          2.89383482e-01, 4.92776479e-01, 7.51680115e-01],\n",
       "         [8.44836440e-02, 6.25203069e-01, 3.69710242e-01, ...,\n",
       "          5.64493407e-01, 4.40327842e-01, 5.13651938e-01]],\n",
       "\n",
       "        [[1.59401427e-01, 2.14656087e-01, 8.65826518e-01, ...,\n",
       "          7.54172296e-01, 3.22016599e-01, 4.10827202e-01],\n",
       "         [2.90196789e-01, 3.33575111e-02, 5.89748281e-01, ...,\n",
       "          5.82135081e-01, 3.31706958e-03, 9.41380447e-01],\n",
       "         [9.00414448e-01, 1.96459097e-01, 9.55577670e-01, ...,\n",
       "          1.12783744e-01, 5.68334015e-02, 6.26671312e-02],\n",
       "         ...,\n",
       "         [6.87034957e-01, 5.61555714e-01, 7.50050007e-01, ...,\n",
       "          7.66396902e-01, 5.02054154e-02, 2.45664528e-01],\n",
       "         [5.07737772e-01, 3.61178048e-01, 9.59566093e-01, ...,\n",
       "          5.94698069e-01, 6.03017458e-01, 8.05730899e-01],\n",
       "         [8.97117004e-01, 6.87372786e-01, 6.62002471e-01, ...,\n",
       "          7.44256327e-01, 9.07010510e-01, 1.66051562e-01]]],\n",
       "\n",
       "\n",
       "       [[[1.08300572e-01, 3.97545972e-01, 2.02223613e-01, ...,\n",
       "          9.29017159e-01, 4.14231120e-01, 2.39390495e-01],\n",
       "         [8.32771813e-01, 1.88597323e-01, 4.60432516e-01, ...,\n",
       "          8.15941187e-01, 9.74015275e-01, 1.74427525e-01],\n",
       "         [5.47551779e-01, 9.25127217e-01, 2.03353671e-01, ...,\n",
       "          6.01333243e-01, 2.71905914e-01, 9.10107506e-01],\n",
       "         ...,\n",
       "         [8.96809696e-01, 8.32799667e-01, 3.31730760e-01, ...,\n",
       "          8.41808820e-02, 1.75323186e-01, 3.10580283e-01],\n",
       "         [2.81534521e-01, 5.13525008e-01, 5.80348921e-01, ...,\n",
       "          4.99134782e-02, 8.87481559e-01, 7.33953875e-01],\n",
       "         [2.26490342e-01, 8.16932818e-01, 9.61151146e-01, ...,\n",
       "          2.67577741e-02, 9.23837145e-01, 8.15527281e-01]],\n",
       "\n",
       "        [[8.37834462e-01, 7.86065923e-01, 8.87122994e-01, ...,\n",
       "          1.15186010e-01, 2.62734886e-01, 7.79826782e-01],\n",
       "         [1.70945554e-01, 4.05550418e-01, 7.56351299e-01, ...,\n",
       "          4.27253304e-01, 1.37494209e-01, 5.54691293e-01],\n",
       "         [9.67562477e-01, 8.40000984e-01, 5.42793836e-01, ...,\n",
       "          4.20840024e-01, 4.58789349e-01, 3.06433140e-01],\n",
       "         ...,\n",
       "         [8.02554180e-01, 6.55309826e-02, 1.37431038e-01, ...,\n",
       "          5.68174741e-01, 2.04338663e-01, 9.53191151e-01],\n",
       "         [6.86591197e-01, 4.54654601e-01, 8.45207210e-01, ...,\n",
       "          6.06825767e-01, 4.90873568e-01, 7.03267700e-01],\n",
       "         [4.66975179e-01, 6.85943176e-01, 5.91634375e-01, ...,\n",
       "          4.10116638e-01, 5.39038369e-01, 2.48672798e-01]],\n",
       "\n",
       "        [[6.13487087e-01, 5.60584105e-01, 2.13778133e-01, ...,\n",
       "          6.86022187e-01, 9.49627900e-01, 5.74178163e-01],\n",
       "         [3.45899198e-01, 2.42661204e-01, 1.90231868e-01, ...,\n",
       "          6.32943096e-01, 9.82208539e-01, 6.19841253e-01],\n",
       "         [4.07061552e-02, 5.34618374e-01, 4.20228392e-01, ...,\n",
       "          3.67404444e-02, 6.62494543e-01, 9.98367593e-01],\n",
       "         ...,\n",
       "         [3.43142093e-01, 3.10771200e-01, 8.40830099e-01, ...,\n",
       "          3.21475868e-01, 4.09142419e-01, 8.49110475e-01],\n",
       "         [8.01100111e-01, 6.24093759e-01, 2.54998061e-01, ...,\n",
       "          9.49188154e-01, 1.57588764e-01, 8.01732493e-01],\n",
       "         [4.82378316e-01, 3.05967457e-01, 3.94520284e-01, ...,\n",
       "          2.00268877e-01, 9.22898271e-01, 2.50778089e-01]],\n",
       "\n",
       "        ...,\n",
       "\n",
       "        [[6.37128086e-02, 8.89920356e-01, 3.25771620e-01, ...,\n",
       "          5.52226832e-02, 1.31166186e-01, 7.82420234e-01],\n",
       "         [8.53469749e-01, 5.42344610e-01, 6.09514797e-01, ...,\n",
       "          2.28851316e-01, 6.50577501e-01, 3.00492224e-02],\n",
       "         [9.22499316e-01, 2.71030199e-01, 1.78594791e-01, ...,\n",
       "          5.54709724e-01, 3.02101060e-01, 4.73030849e-01],\n",
       "         ...,\n",
       "         [1.80108948e-01, 7.79098015e-01, 5.56508179e-01, ...,\n",
       "          9.24072891e-01, 7.81593619e-01, 3.16121970e-01],\n",
       "         [3.68203159e-01, 1.62302801e-01, 1.03816939e-02, ...,\n",
       "          3.23925698e-01, 8.43718921e-01, 5.72065500e-01],\n",
       "         [8.08554833e-01, 9.70591690e-01, 1.48837140e-01, ...,\n",
       "          5.65025020e-01, 7.90271872e-01, 6.26137577e-01]],\n",
       "\n",
       "        [[2.39241398e-01, 6.05036978e-01, 2.62658861e-01, ...,\n",
       "          8.91105248e-01, 4.52716432e-01, 9.55738283e-01],\n",
       "         [6.27315522e-01, 2.92642317e-02, 7.46217099e-01, ...,\n",
       "          2.81264982e-01, 4.34585602e-01, 8.38605660e-02],\n",
       "         [9.68563926e-01, 5.76819830e-01, 9.79967074e-01, ...,\n",
       "          8.46129883e-01, 8.53494049e-01, 7.18076961e-01],\n",
       "         ...,\n",
       "         [8.76027163e-01, 5.67822999e-02, 9.78916480e-01, ...,\n",
       "          5.60502862e-01, 2.02286336e-01, 4.60296361e-01],\n",
       "         [8.99057788e-01, 8.26154494e-01, 9.82920953e-01, ...,\n",
       "          4.26163946e-01, 7.39006463e-02, 2.87313844e-01],\n",
       "         [3.68349356e-01, 4.25959225e-01, 6.17988990e-01, ...,\n",
       "          8.08322767e-01, 3.20090267e-01, 7.97609052e-01]],\n",
       "\n",
       "        [[5.55173193e-01, 4.56951095e-01, 5.79479948e-01, ...,\n",
       "          3.60679377e-01, 2.23204863e-02, 9.27009806e-01],\n",
       "         [3.72491308e-01, 5.92699154e-01, 5.03841355e-01, ...,\n",
       "          3.25352464e-01, 7.01547426e-01, 7.44156214e-01],\n",
       "         [5.66530313e-01, 9.16948192e-01, 7.27230965e-02, ...,\n",
       "          3.20791154e-01, 7.97447031e-01, 2.37408268e-01],\n",
       "         ...,\n",
       "         [7.26648101e-01, 5.82806629e-01, 7.40406522e-01, ...,\n",
       "          2.31854162e-01, 2.42595699e-01, 1.08269198e-02],\n",
       "         [5.09562346e-01, 9.17935634e-01, 2.07026605e-03, ...,\n",
       "          5.32728168e-01, 2.39735469e-01, 4.51836810e-02],\n",
       "         [6.78808008e-01, 3.21431946e-01, 9.14626662e-01, ...,\n",
       "          7.76239492e-01, 2.42101127e-01, 4.52733729e-02]]],\n",
       "\n",
       "\n",
       "       [[[1.68811090e-01, 8.81292149e-02, 1.33563706e-01, ...,\n",
       "          8.58964272e-01, 4.87244145e-01, 3.10336277e-01],\n",
       "         [2.87414129e-01, 2.42771956e-01, 9.28097040e-01, ...,\n",
       "          3.13460121e-01, 9.35390054e-01, 5.91732908e-01],\n",
       "         [2.09629679e-01, 9.91560233e-01, 1.28802354e-01, ...,\n",
       "          9.05208767e-01, 9.36577369e-01, 2.51555901e-01],\n",
       "         ...,\n",
       "         [4.65587259e-01, 4.46472674e-01, 4.39893511e-01, ...,\n",
       "          7.40884800e-01, 8.11921441e-01, 9.75403878e-01],\n",
       "         [8.67341339e-01, 4.91398398e-01, 2.96186173e-01, ...,\n",
       "          4.80697301e-02, 5.12045035e-01, 8.97291476e-01],\n",
       "         [1.81539843e-01, 1.67568909e-01, 2.22626265e-01, ...,\n",
       "          3.91090570e-01, 8.22568914e-01, 1.15462070e-01]],\n",
       "\n",
       "        [[4.22780244e-01, 2.00389756e-01, 1.87648959e-01, ...,\n",
       "          2.64108778e-01, 4.68824187e-02, 7.52038312e-01],\n",
       "         [5.53090258e-01, 6.68287245e-01, 9.13639808e-01, ...,\n",
       "          4.21591772e-01, 8.39359460e-01, 2.22152488e-01],\n",
       "         [2.83351730e-01, 2.99517464e-01, 7.69458953e-01, ...,\n",
       "          4.33524442e-01, 5.56248465e-01, 9.09091224e-01],\n",
       "         ...,\n",
       "         [4.04912506e-01, 9.37979611e-01, 9.69058520e-01, ...,\n",
       "          5.05040021e-01, 4.88338146e-01, 9.46744569e-01],\n",
       "         [6.49953815e-01, 9.29868992e-01, 8.45781321e-01, ...,\n",
       "          2.26279598e-01, 3.63632912e-01, 3.83444268e-01],\n",
       "         [6.95939704e-01, 7.70266845e-01, 7.01102268e-01, ...,\n",
       "          9.11482287e-03, 5.63193024e-01, 8.24853530e-01]],\n",
       "\n",
       "        [[6.43505753e-01, 2.16019896e-01, 9.06067105e-01, ...,\n",
       "          3.50381910e-01, 9.06324272e-01, 2.42141122e-01],\n",
       "         [7.84694303e-01, 8.08564565e-01, 7.71517838e-01, ...,\n",
       "          8.26645810e-01, 2.53255947e-01, 2.09583829e-01],\n",
       "         [2.95135718e-01, 1.78265884e-03, 7.29029903e-02, ...,\n",
       "          4.77897314e-01, 7.03751305e-01, 1.99622829e-01],\n",
       "         ...,\n",
       "         [5.97549476e-01, 1.87671400e-01, 2.88280299e-02, ...,\n",
       "          9.95207038e-01, 5.22622594e-01, 2.77421110e-02],\n",
       "         [6.66058168e-01, 9.08586440e-01, 5.89853079e-01, ...,\n",
       "          3.37172261e-01, 8.27691776e-01, 7.78636546e-01],\n",
       "         [5.65579461e-01, 7.73988340e-01, 8.93247965e-01, ...,\n",
       "          5.62807278e-01, 4.79711127e-01, 6.25901562e-01]],\n",
       "\n",
       "        ...,\n",
       "\n",
       "        [[1.44151176e-01, 1.20636524e-01, 9.60404522e-01, ...,\n",
       "          9.83088551e-01, 1.33052557e-01, 6.72787036e-01],\n",
       "         [6.46986442e-01, 7.55339639e-01, 3.33782555e-01, ...,\n",
       "          6.11848874e-01, 4.94206154e-01, 7.70505320e-01],\n",
       "         [1.28807587e-01, 6.68015560e-01, 1.84791739e-01, ...,\n",
       "          2.33733805e-01, 1.15614951e-01, 4.25681434e-01],\n",
       "         ...,\n",
       "         [7.51592465e-01, 5.09806524e-01, 8.96579028e-01, ...,\n",
       "          1.86485021e-01, 1.54420231e-02, 2.63429978e-01],\n",
       "         [4.20065103e-01, 7.24022771e-01, 9.98123079e-01, ...,\n",
       "          3.64799242e-01, 5.12736384e-01, 2.97424601e-01],\n",
       "         [7.15123716e-01, 8.41501108e-01, 3.81328167e-01, ...,\n",
       "          2.59818728e-01, 9.99153003e-03, 6.61853079e-01]],\n",
       "\n",
       "        [[1.50518243e-01, 8.63284822e-02, 6.40229584e-01, ...,\n",
       "          2.56440153e-01, 1.87626498e-01, 3.96408740e-02],\n",
       "         [7.19583038e-02, 9.19861007e-01, 2.10802750e-01, ...,\n",
       "          2.42937574e-01, 3.93363710e-01, 6.85231250e-02],\n",
       "         [9.16060888e-01, 5.73501134e-01, 4.27860801e-01, ...,\n",
       "          4.90239424e-01, 1.72286754e-01, 3.05858131e-01],\n",
       "         ...,\n",
       "         [9.26855688e-01, 2.42935115e-01, 3.46889504e-01, ...,\n",
       "          7.98416290e-01, 5.90254062e-01, 1.95983277e-01],\n",
       "         [1.70043751e-01, 4.33578283e-01, 1.89149960e-02, ...,\n",
       "          6.49975154e-01, 4.23078725e-02, 9.04822400e-01],\n",
       "         [1.63533287e-01, 7.02984400e-01, 2.50832243e-01, ...,\n",
       "          4.34247688e-01, 6.87303329e-01, 2.68723158e-01]],\n",
       "\n",
       "        [[3.03298045e-01, 7.02201018e-02, 4.92051720e-01, ...,\n",
       "          7.04232044e-01, 1.10328930e-01, 7.44061784e-01],\n",
       "         [9.15455977e-01, 6.84640592e-01, 5.18254404e-01, ...,\n",
       "          8.86638953e-01, 5.03381903e-01, 5.72357511e-01],\n",
       "         [7.58728812e-01, 6.08429977e-01, 4.54595953e-01, ...,\n",
       "          7.22104459e-01, 4.43060929e-01, 8.47463252e-01],\n",
       "         ...,\n",
       "         [1.40040057e-01, 1.07496970e-01, 4.26620288e-01, ...,\n",
       "          6.76949551e-01, 1.84167920e-01, 7.32702471e-01],\n",
       "         [4.97684281e-01, 3.38636633e-01, 9.78787096e-01, ...,\n",
       "          4.17432862e-01, 2.98861384e-01, 8.73680050e-01],\n",
       "         [3.51814251e-01, 5.09177555e-01, 7.39873140e-01, ...,\n",
       "          3.62148000e-01, 4.36081828e-01, 5.39421274e-01]]]])"
      ]
     },
     "execution_count": 38,
     "metadata": {},
     "output_type": "execute_result"
    }
   ],
   "source": [
    "A + A      # 2A\n",
    "A - A      # 0A\n",
    "A * A      # Elementwise multiplication\n",
    "A / A      # Elementwise division\n",
    "1j * A     # i*A\n",
    "np.conj(A) # complex conjugation\n",
    "np.imag(A) # imaginary part of A (zero)\n",
    "np.real(A) # real part of A\n"
   ]
  },
  {
   "cell_type": "markdown",
   "metadata": {},
   "source": [
    "### Matrix multiplication\n",
    "If you look at the shape of the matrices A, B, C and D, there are only some combinations we can make that doesnt give an error. We should note you can use the shorthand MM or you can use the \"@\" operator which is even shorter"
   ]
  },
  {
   "cell_type": "code",
   "execution_count": 39,
   "metadata": {},
   "outputs": [
    {
     "name": "stdout",
     "output_type": "stream",
     "text": [
      "448 μs ± 6.86 μs per loop (mean ± std. dev. of 7 runs, 1,000 loops each)\n",
      "98.4 μs ± 6.14 μs per loop (mean ± std. dev. of 7 runs, 10,000 loops each)\n"
     ]
    }
   ],
   "source": [
    "# selection of valid operations\n",
    "MM(A,A)\n",
    "MM(D,D)\n",
    "MM(B,C)\n",
    "MM(B,B.transpose(0,1,3,2))\n",
    "# selection of operations that yield an error, consider why this is\n",
    "# MM(B,B)\n",
    "# MM(C,C)\n",
    "# MM(A,D)\n",
    "# This is faster than doing the equivalent for-loop.\n",
    "def f(A,B):\n",
    "    res = np.zeros((n1,n2)+(A.shape[-2],B.shape[-1]))\n",
    "    for i in range(n1):\n",
    "        for j in range(n2):\n",
    "            res[i,j,:,:] = np.dot(A[i,j], B[i,j])\n",
    "    return res\n",
    "%timeit res3 =  f(D,D)\n",
    "%timeit res4 =  MM(D,D) # same as D@D\n"
   ]
  },
  {
   "cell_type": "markdown",
   "metadata": {},
   "source": [
    "###  Matrix Inversion\n",
    "again, ***only the last two incides are treated as matrix indices, the rest is vectorised over***. It is again faster to use the broadcasting if it is possible instead of doing the for-loop as in the matrix-multiplication example. The only exception is if the case you want to do requires more RAM than your computer has, then doing the manual for-loop is necessary. "
   ]
  },
  {
   "cell_type": "code",
   "execution_count": 40,
   "metadata": {},
   "outputs": [
    {
     "name": "stdout",
     "output_type": "stream",
     "text": [
      "The trace of A^{2,1}*(A^{2,1})^{-1} is 10.0 \n",
      "Does this make sense? (hint: look at the shape of the matrix)\n"
     ]
    }
   ],
   "source": [
    "inv_A = Inv(A)\n",
    "i,j = 2,1 # the particular two first indices we take out\n",
    "print(r'The trace of A^{'+str(i)+','+str(j)+'}*(A^{'+str(i)+','+str(j)+'})^{-1} is',Tr( MM(A[i,j], inv_A[i,j]) ), \n",
    "       '\\nDoes this make sense? (hint: look at the shape of the matrix)')\n"
   ]
  },
  {
   "cell_type": "code",
   "execution_count": 49,
   "metadata": {},
   "outputs": [
    {
     "data": {
      "text/plain": [
       "(12, 15, 10, 10)"
      ]
     },
     "execution_count": 49,
     "metadata": {},
     "output_type": "execute_result"
    }
   ],
   "source": [
    "inv_A.shape"
   ]
  },
  {
   "cell_type": "markdown",
   "metadata": {},
   "source": [
    "### Trace  / Trace of Product\n",
    "The trace command is very similar, with the exception that we have to specify which axes the trace should be taken over if the array has more than two indices. There is a fast way to calculate the trace of products because only the diagonal needs to be calculated"
   ]
  },
  {
   "cell_type": "code",
   "execution_count": 50,
   "metadata": {},
   "outputs": [
    {
     "name": "stdout",
     "output_type": "stream",
     "text": [
      "(12, 15)\n",
      "73.6 μs ± 2.88 μs per loop (mean ± std. dev. of 7 runs, 10,000 loops each)\n",
      "46.5 μs ± 453 ns per loop (mean ± std. dev. of 7 runs, 10,000 loops each)\n"
     ]
    }
   ],
   "source": [
    "# Trace of matrix\n",
    "res1 = Tr(A, axis1 = 2, axis2 = 3)\n",
    "print(res1.shape) # it is a 50x100 array here because the diagonal of the matrix indices are summed over \n",
    "i,j = 2,5\n",
    "assert np.isclose(res1[i,j], Tr(A[i,j]))\n",
    "\n",
    "#Trace of Product\n",
    "#slow way\n",
    "res2 = Tr(MM(B,C),axis1 = 2, axis2 = 3)\n",
    "#faster, less obvious way. Write out the diagonal of B@C on paper if you want to see why this is.\n",
    "res3 = np.sum(B*(C.transpose(0,1,3,2)), axis = (2,3))\n",
    "\n",
    "i,j = 5,11\n",
    "assert np.isclose(res2[i,j], res3[i,j])\n",
    "\n",
    "#Timings\n",
    "%timeit Tr(MM(B,C),axis1 = 2, axis2 = 3)\n",
    "%timeit np.sum(B*(C.transpose(0,1,3,2)), axis = (2,3))"
   ]
  },
  {
   "cell_type": "code",
   "execution_count": null,
   "metadata": {},
   "outputs": [],
   "source": []
  }
 ],
 "metadata": {
  "kernelspec": {
   "display_name": "10325",
   "language": "python",
   "name": "python3"
  },
  "language_info": {
   "codemirror_mode": {
    "name": "ipython",
    "version": 3
   },
   "file_extension": ".py",
   "mimetype": "text/x-python",
   "name": "python",
   "nbconvert_exporter": "python",
   "pygments_lexer": "ipython3",
   "version": "3.13.1"
  }
 },
 "nbformat": 4,
 "nbformat_minor": 4
}
