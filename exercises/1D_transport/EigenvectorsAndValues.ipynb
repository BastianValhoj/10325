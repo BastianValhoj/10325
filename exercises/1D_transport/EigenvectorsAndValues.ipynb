{
 "cells": [
  {
   "cell_type": "markdown",
   "metadata": {},
   "source": [
    "## Eigenvectors and values using numpy and scipy sparse matrices"
   ]
  },
  {
   "cell_type": "markdown",
   "metadata": {},
   "source": [
    "In Python, two libraries are primarily used for all linear algebra: `numpy` and `scipy` (incl. `scipy.sparse`).\n",
    "You are encouraged to look up the documentation on these when needed. Below are some examples."
   ]
  },
  {
   "cell_type": "code",
   "execution_count": 1,
   "metadata": {},
   "outputs": [],
   "source": [
    "import numpy as np\n",
    "import scipy.sparse as sp\n",
    "import scipy.sparse.linalg as splinalg"
   ]
  },
  {
   "cell_type": "code",
   "execution_count": 2,
   "metadata": {},
   "outputs": [],
   "source": [
    "# Shorthands\n",
    "Inv = np.linalg.inv\n",
    "Tr  = np.trace\n",
    "MM  = np.matmul  "
   ]
  },
  {
   "cell_type": "code",
   "execution_count": 23,
   "metadata": {},
   "outputs": [
    {
     "data": {
      "text/plain": [
       "array([[0., 0., 0., 0., 0., 1.],\n",
       "       [1., 0., 0., 0., 0., 0.],\n",
       "       [0., 1., 0., 0., 0., 0.],\n",
       "       [0., 0., 1., 0., 0., 0.],\n",
       "       [0., 0., 0., 1., 0., 0.],\n",
       "       [0., 0., 0., 0., 1., 0.]])"
      ]
     },
     "execution_count": 23,
     "metadata": {},
     "output_type": "execute_result"
    }
   ],
   "source": [
    "C6 = np.zeros((6, 6))\n",
    "np.fill_diagonal(C6[1:], 1)\n",
    "C6[0, -1] = 1\n",
    "C6"
   ]
  },
  {
   "cell_type": "code",
   "execution_count": 31,
   "metadata": {},
   "outputs": [
    {
     "data": {
      "text/plain": [
       "<Compressed Sparse Row sparse matrix of dtype 'float64'\n",
       "\twith 6 stored elements and shape (6, 6)>"
      ]
     },
     "execution_count": 31,
     "metadata": {},
     "output_type": "execute_result"
    }
   ],
   "source": [
    "# There are several different sparse matrices.\n",
    "# They each have advantages and disadvantages.\n",
    "# Constructing a matrix may be faster in eg. dok format, while linear algebra is often fastest with csr format.\n",
    "# You should look up the documentation when you get to the point where you consider sparse matrices.\n",
    "C6_sparse = sp.csr_matrix(C6)\n",
    "C6_sparse"
   ]
  },
  {
   "cell_type": "markdown",
   "metadata": {},
   "source": [
    "### Visualize a sparse matrix"
   ]
  },
  {
   "cell_type": "code",
   "execution_count": 32,
   "metadata": {},
   "outputs": [],
   "source": [
    "import matplotlib.pyplot as plt"
   ]
  },
  {
   "cell_type": "code",
   "execution_count": 33,
   "metadata": {},
   "outputs": [
    {
     "data": {
      "text/plain": [
       "<matplotlib.lines.Line2D at 0x1aa6e58fed0>"
      ]
     },
     "execution_count": 33,
     "metadata": {},
     "output_type": "execute_result"
    },
    {
     "data": {
      "image/png": "[encoded data removed]",
      "text/plain": [
       "<Figure size 640x480 with 1 Axes>"
      ]
     },
     "metadata": {},
     "output_type": "display_data"
    }
   ],
   "source": [
    "plt.spy(C6_sparse)"
   ]
  },
  {
   "cell_type": "code",
   "execution_count": 38,
   "metadata": {},
   "outputs": [
    {
     "name": "stdout",
     "output_type": "stream",
     "text": [
      "[-1. +0.j        -0.5+0.8660254j -0.5-0.8660254j  0.5+0.8660254j\n",
      "  0.5-0.8660254j  1. +0.j       ]\n",
      "[ 0.40824829+0.00000000e+00j -0.20412415-3.53553391e-01j\n",
      " -0.20412415+3.53553391e-01j  0.40824829-4.12223253e-17j\n",
      " -0.20412415-3.53553391e-01j -0.20412415+3.53553391e-01j]\n",
      "[-1. +0.j        -0.5+0.8660254j -0.5-0.8660254j  1. +0.j       ]\n",
      "[ 0.40824829+0.j -0.40824829+0.j  0.40824829+0.j -0.40824829+0.j\n",
      "  0.40824829+0.j -0.40824829+0.j]\n",
      "[1. 1. 1. 1. 1. 1.]\n",
      "[1. 1. 1. 1.]\n"
     ]
    }
   ],
   "source": [
    "# Use numpy for dense linear algebra, scipy for sparse:\n",
    "e, v = np.linalg.eig(C6)\n",
    "\n",
    "# Sparse eigenvalue method requires that you ask for less than all eigenvalues.\n",
    "# This is often fine when you have a giant matrix and want only the lowest ones\n",
    "# (or the middle ones, or whatever -- can be specified)\n",
    "# For smaller systems it is much faster to use the dense linear algebra anyway.\n",
    "es, vs = splinalg.eigs(C6_sparse, k=4)\n",
    "\n",
    "# Note that there are eigh / eigsh methods for the special case of a hermitian matrix -- it runs faster.\n",
    "\n",
    "# Dense:\n",
    "print(f\"{e}\")\n",
    "print(v[:, 1])  # The second eigenvector\n",
    "\n",
    "# Sparse:\n",
    "print(es)\n",
    "print(vs[:, 0])  # First eigenvector\n",
    "\n",
    "# All states are normalized:\n",
    "print(np.linalg.norm(v, axis=0))\n",
    "print(np.linalg.norm(vs, axis=0))"
   ]
  },
  {
   "cell_type": "markdown",
   "metadata": {},
   "source": [
    "### Constructing the original matrix from the eigensystem"
   ]
  },
  {
   "cell_type": "code",
   "execution_count": 40,
   "metadata": {},
   "outputs": [
    {
     "data": {
      "text/plain": [
       "np.float64(1.2215054755269978e-15)"
      ]
     },
     "execution_count": 40,
     "metadata": {},
     "output_type": "execute_result"
    }
   ],
   "source": [
    "C6_1 = MM(MM(v,np.diag(e)),Inv(v))\n",
    "np.max(np.abs(C6_1-C6))"
   ]
  },
  {
   "cell_type": "code",
   "execution_count": 41,
   "metadata": {},
   "outputs": [
    {
     "data": {
      "text/plain": [
       "np.float64(9.992007221626409e-16)"
      ]
     },
     "execution_count": 41,
     "metadata": {},
     "output_type": "execute_result"
    }
   ],
   "source": [
    "C6_1 = MM(MM(v,np.diag(e)),v.T.conjugate())  ## getting back from eigensystem to orig. matrix\n",
    "np.max(np.abs(C6_1-C6))"
   ]
  },
  {
   "cell_type": "code",
   "execution_count": null,
   "metadata": {},
   "outputs": [],
   "source": []
  }
 ],
 "metadata": {
  "kernelspec": {
   "display_name": "10325",
   "language": "python",
   "name": "python3"
  },
  "language_info": {
   "codemirror_mode": {
    "name": "ipython",
    "version": 3
   },
   "file_extension": ".py",
   "mimetype": "text/x-python",
   "name": "python",
   "nbconvert_exporter": "python",
   "pygments_lexer": "ipython3",
   "version": "3.13.1"
  }
 },
 "nbformat": 4,
 "nbformat_minor": 2
}
