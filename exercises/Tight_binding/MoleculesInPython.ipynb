{
 "cells": [
  {
   "cell_type": "markdown",
   "metadata": {},
   "source": [
    "# Simple handling of atom geometries and XYZ-files in python\n",
    "Python has a very rich ecosystem for all kinds of atomic simulation. `ASE` is somewhat common and probably has the simplest interface, so we will use it here. "
   ]
  },
  {
   "cell_type": "code",
   "execution_count": 2,
   "metadata": {},
   "outputs": [],
   "source": [
    "from pathlib import Path  # Builtin library. Utility for file paths.\n",
    "import numpy as np\n",
    "import ase\n",
    "from ase import io\n",
    "from ase.visualize import view\n",
    "import ase.build\n",
    "from ase.data import pubchem"
   ]
  },
  {
   "cell_type": "code",
   "execution_count": 12,
   "metadata": {},
   "outputs": [
    {
     "name": "stdout",
     "output_type": "stream",
     "text": [
      "2\n",
      "Lattice=\"2.84 0.0 0.0 0.0 10.0 0.0 0.0 0.0 10.0\" Properties=species:S:1:pos:R:3 pbc=\"F F F\"\n",
      "C        0.00000000       0.00000000       0.00000000\n",
      "C        1.42000000       0.00000000       0.00000000\n",
      "\n"
     ]
    }
   ],
   "source": [
    "# First, lets say we have some atom locations\n",
    "xyz = [[0, 0, 0], [1.42, 0, 0]]\n",
    "\n",
    "# Typically you need to define the cell they live in\n",
    "cell = np.diag((2.84, 10, 10))\n",
    "\n",
    "# Now to use the ase i/o functions, an ase Atoms object must be used.\n",
    "atoms = ase.Atoms(\"C2\", xyz, cell=cell)\n",
    "\n",
    "# Now you can write these atoms to an xyz file \n",
    "# (several formats are supported, but use xyz for easy compatibility with the mathematica nb)\n",
    "filepath = \"my_test_file.xyz\"\n",
    "io.write(filepath, atoms)\n",
    "\n",
    "# Now lets see the contents of the file we just wrote:\n",
    "print(Path(filepath).read_text())"
   ]
  },
  {
   "cell_type": "code",
   "execution_count": 13,
   "metadata": {},
   "outputs": [
    {
     "name": "stdout",
     "output_type": "stream",
     "text": [
      "[[0.   0.   0.  ]\n",
      " [1.42 0.   0.  ]]\n",
      "[[ 2.84  0.    0.  ]\n",
      " [ 0.   10.    0.  ]\n",
      " [ 0.    0.   10.  ]]\n"
     ]
    }
   ],
   "source": [
    "# If you already have a file, you can read it with ase as well:\n",
    "atoms = io.read(filepath)\n",
    "# Then you can get the positions:\n",
    "xyz = atoms.positions\n",
    "cell = atoms.cell.array\n",
    "print(xyz)\n",
    "print(cell)"
   ]
  },
  {
   "cell_type": "code",
   "execution_count": 14,
   "metadata": {},
   "outputs": [],
   "source": [
    "# To clean up any mess, this deletes the previous file again:\n",
    "p = Path(filepath)\n",
    "# print(p)\n",
    "if p.is_file():\n",
    "    p.unlink()"
   ]
  },
  {
   "cell_type": "code",
   "execution_count": 15,
   "metadata": {},
   "outputs": [
    {
     "data": {
      "text/plain": [
       "<Popen: returncode: None args: ['c:\\\\Users\\\\basti\\\\anaconda3\\\\envs\\\\10325\\\\p...>"
      ]
     },
     "execution_count": 15,
     "metadata": {},
     "output_type": "execute_result"
    }
   ],
   "source": [
    "# You can view atoms with the ase gui:\n",
    "view(atoms)  # Opens a new window on your computer\n",
    "\n",
    "# view(atoms, viewer=\"ngl\")  # Requires extra packages. Should show atoms inside the notebook."
   ]
  },
  {
   "cell_type": "code",
   "execution_count": 16,
   "metadata": {},
   "outputs": [
    {
     "data": {
      "text/plain": [
       "<Popen: returncode: None args: ['c:\\\\Users\\\\basti\\\\anaconda3\\\\envs\\\\10325\\\\p...>"
      ]
     },
     "execution_count": 16,
     "metadata": {},
     "output_type": "execute_result"
    }
   ],
   "source": [
    "# Build simple molecules:\n",
    "view(ase.build.molecule(\"C6H6\"))"
   ]
  },
  {
   "cell_type": "code",
   "execution_count": 17,
   "metadata": {},
   "outputs": [
    {
     "data": {
      "text/plain": [
       "<Popen: returncode: None args: ['c:\\\\Users\\\\basti\\\\anaconda3\\\\envs\\\\10325\\\\p...>"
      ]
     },
     "execution_count": 17,
     "metadata": {},
     "output_type": "execute_result"
    }
   ],
   "source": [
    "# Look up something online:\n",
    "view(pubchem.pubchem_atoms_search(\"anthracene\"))"
   ]
  },
  {
   "cell_type": "code",
   "execution_count": 18,
   "metadata": {},
   "outputs": [
    {
     "data": {
      "text/plain": [
       "<Popen: returncode: None args: ['c:\\\\Users\\\\basti\\\\anaconda3\\\\envs\\\\10325\\\\p...>"
      ]
     },
     "execution_count": 18,
     "metadata": {},
     "output_type": "execute_result"
    }
   ],
   "source": [
    "# You can also manually set up a graphene sheet\n",
    "a = 1.42\n",
    "n0 = 10\n",
    "n1 = 12\n",
    "\n",
    "xyz = np.array([[0, 0, 0], [a, 0, 0]])\n",
    "s3 = 3**0.5\n",
    "cell = a / 2 * np.array([[3, -3**0.5, 0], [3, 3**0.5, 0], [0, 0, 10]])\n",
    "\n",
    "def tile(xyz, cell, ntile, axis):\n",
    "    xyz = xyz[None, ...].copy()\n",
    "    xyz = xyz + cell[None, (axis,), :] * np.arange(ntile)[:, None, None]\n",
    "    cell = cell.copy()\n",
    "    cell[axis, :] *= ntile\n",
    "    return xyz.reshape(-1, 3), cell\n",
    "\n",
    "txyz, tcell = tile(xyz, cell, n0, 0)\n",
    "txyz, tcell = tile(txyz, tcell, n1, 1)\n",
    "\n",
    "view(ase.Atoms([\"C\"]*len(txyz), txyz, cell=tcell))\n"
   ]
  },
  {
   "cell_type": "code",
   "execution_count": null,
   "metadata": {},
   "outputs": [],
   "source": []
  }
 ],
 "metadata": {
  "kernelspec": {
   "display_name": "10325",
   "language": "python",
   "name": "python3"
  },
  "language_info": {
   "codemirror_mode": {
    "name": "ipython",
    "version": 3
   },
   "file_extension": ".py",
   "mimetype": "text/x-python",
   "name": "python",
   "nbconvert_exporter": "python",
   "pygments_lexer": "ipython3",
   "version": "3.11.11"
  }
 },
 "nbformat": 4,
 "nbformat_minor": 2
}
